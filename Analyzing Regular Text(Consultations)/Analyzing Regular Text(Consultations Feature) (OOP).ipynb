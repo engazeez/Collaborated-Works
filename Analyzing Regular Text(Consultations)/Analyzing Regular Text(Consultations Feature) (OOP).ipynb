{
 "cells": [
  {
   "cell_type": "markdown",
   "metadata": {},
   "source": [
    "# Analyzing Regular Text (Consultations Feature"
   ]
  },
  {
   "cell_type": "markdown",
   "metadata": {},
   "source": [
    "After I have checked all codes were correclty and outcomes were prcise in the development environment, part of Software Engineering was applied which is OOP aka Object Orientaed Programming which abbreviates all codes in the develpement enverinment and put them in a proffisional way and more systimatic as well as more easier in updating and debugging."
   ]
  },
  {
   "cell_type": "markdown",
   "metadata": {},
   "source": [
    "## Load data"
   ]
  },
  {
   "cell_type": "code",
   "execution_count": 1,
   "metadata": {},
   "outputs": [],
   "source": [
    "import numpy as np\n",
    "import pandas as pd"
   ]
  },
  {
   "cell_type": "code",
   "execution_count": 2,
   "metadata": {},
   "outputs": [],
   "source": [
    "class ConsultationAnaysis:\n",
    "    '''create multiple objects which have consultations details'''\n",
    "    def __init__(self, file ):\n",
    "        self.consultations = self._create_dataframe(file)\n",
    "        self.series_consult_without_null_vals = self._ignore_null_values(self.consultations)\n",
    "        self.consult_lst = self._split_text(self.series_consult_without_null_vals)\n",
    "        self.consults_number = self._compute_number_consultations(self.consult_lst)\n",
    "        self.len_consutlation_lst = self._compute_length(self.consult_lst)\n",
    "        self.date_time_lst = self._extract_dates_times(self.consult_lst)\n",
    "        self.duration = self._compute_durations(self.date_time_lst)\n",
    "        self.unique_no = self._unique_of_length_or_duration_stat(self.len_consutlation_lst)\n",
    "        self.duration_stats = self._unique_of_length_or_duration_stat(self.duration)\n",
    "        \n",
    "    def _create_dataframe(self,file):\n",
    "        '''create consultations dataframe'''\n",
    "        df = pd.read_excel(file)\n",
    "        consult = df.loc[:,['CONSULTATIONS']]\n",
    "        return consult\n",
    "    \n",
    "    def _ignore_null_values(self,df):\n",
    "        '''remove null values'''\n",
    "        df = df.iloc[:,0]\n",
    "        mask = df.isna()\n",
    "        series_consult = df[~mask]\n",
    "        return series_consult\n",
    "        \n",
    "    def _split_text(self,series):\n",
    "        '''split each consultation '''\n",
    "        series_lsts = series.apply(lambda x: x.split(';'))\n",
    "        return series_lsts\n",
    "    \n",
    "    def _compute_number_consultations(self, series):\n",
    "        '''compute number of consultations for each patient'''\n",
    "        series_number = series.apply(lambda x: len(x)).value_counts()\n",
    "        consults_number = pd.DataFrame(series_number).rename(columns={'CONSULTATIONS':'Frquent'})\n",
    "        return consults_number\n",
    "    \n",
    "    def _compute_length(self,series):\n",
    "        '''find length of each consultation'''\n",
    "        len_text_lst = series.apply(lambda x: [len(n) for n in x])\n",
    "        return len_text_lst\n",
    "    \n",
    "    def _unique_of_length_or_duration_stat(self, series):\n",
    "        '''find number of consultations with and without Reply date time or duration statistics'''\n",
    "        total_lst = []\n",
    "        for lst in series:\n",
    "            total_lst.extend(lst)\n",
    "            \n",
    "        if str(series) != str(self.duration):    \n",
    "            len_without_reply = len([n for n in total_lst if n==31])\n",
    "            len_with_reply = len(total_lst) - len_without_reply\n",
    "\n",
    "            without_with_reply_details = pd.DataFrame(\n",
    "                                [set(total_lst),[len_without_reply,len_with_reply]],\n",
    "                                columns=['Without Reply', 'With Reply'],\n",
    "                                index = ['Length of Text','Number of consultations']\n",
    "                                )\n",
    "            return without_with_reply_details\n",
    "        \n",
    "        else:\n",
    "            return pd.DataFrame(pd.Series(total_lst).describe(), \n",
    "                                columns=['Statistics']\n",
    "                               )\n",
    "    \n",
    "    def _extract_dates_times(self, series):\n",
    "        '''extract dates times'''\n",
    "        series_date_time = series.apply(lambda x: [ \n",
    "                                        x[i][8:25] +'  '+ x[i][31:] \\\n",
    "                                        for i in range(len(x)) \n",
    "                                        ])\n",
    "        return series_date_time\n",
    "    \n",
    "    def _compute_durations(self, series):\n",
    "        '''compute durations by subtract Reply date time from Request date time'''\n",
    "        series_durations = series.apply(\n",
    "            lambda x: [\n",
    "                pd.to_datetime(x[i][19:], errors='coerce',dayfirst=True) - \\\n",
    "                pd.to_datetime(x[i][:16], errors='coerce', dayfirst=True) \\\n",
    "                for i in range(len(x))\n",
    "            ])\n",
    "        return series_durations"
   ]
  },
  {
   "cell_type": "code",
   "execution_count": 3,
   "metadata": {},
   "outputs": [],
   "source": [
    "# passing path of data to class and store it in varialbe\n",
    "consults = ConsultationAnaysis('emergency_data.xlsx')"
   ]
  },
  {
   "cell_type": "code",
   "execution_count": 4,
   "metadata": {},
   "outputs": [
    {
     "data": {
      "text/plain": [
       "1          Request:01-01-2021 23:38 Reply:02-01-2021 00:36\n",
       "6        Request:02-01-2021 00:40 Reply:02-01-2021 01:2...\n",
       "7          Request:02-01-2021 00:49 Reply:02-01-2021 01:39\n",
       "8          Request:02-01-2021 03:24 Reply:02-01-2021 04:06\n",
       "11         Request:01-01-2021 23:46 Reply:02-01-2021 00:29\n",
       "                               ...                        \n",
       "29950      Request:31-03-2021 18:01 Reply:31-03-2021 18:12\n",
       "29951      Request:31-03-2021 18:58 Reply:01-04-2021 00:37\n",
       "29952    Request:31-03-2021 14:21 Reply:31-03-2021 14:3...\n",
       "29954      Request:31-03-2021 15:13 Reply:31-03-2021 16:19\n",
       "29955      Request:31-03-2021 14:37 Reply:31-03-2021 19:13\n",
       "Name: CONSULTATIONS, Length: 11508, dtype: object"
      ]
     },
     "execution_count": 4,
     "metadata": {},
     "output_type": "execute_result"
    }
   ],
   "source": [
    "# only patients who received consultations\n",
    "consults.series_consult_without_null_vals"
   ]
  },
  {
   "cell_type": "code",
   "execution_count": 5,
   "metadata": {},
   "outputs": [
    {
     "data": {
      "text/plain": [
       "1        [Request:01-01-2021 23:38 Reply:02-01-2021 00:36]\n",
       "6        [Request:02-01-2021 00:40 Reply:02-01-2021 01:...\n",
       "7        [Request:02-01-2021 00:49 Reply:02-01-2021 01:39]\n",
       "8        [Request:02-01-2021 03:24 Reply:02-01-2021 04:06]\n",
       "11       [Request:01-01-2021 23:46 Reply:02-01-2021 00:29]\n",
       "                               ...                        \n",
       "29950    [Request:31-03-2021 18:01 Reply:31-03-2021 18:12]\n",
       "29951    [Request:31-03-2021 18:58 Reply:01-04-2021 00:37]\n",
       "29952    [Request:31-03-2021 14:21 Reply:31-03-2021 14:...\n",
       "29954    [Request:31-03-2021 15:13 Reply:31-03-2021 16:19]\n",
       "29955    [Request:31-03-2021 14:37 Reply:31-03-2021 19:13]\n",
       "Name: CONSULTATIONS, Length: 11508, dtype: object"
      ]
     },
     "execution_count": 5,
     "metadata": {},
     "output_type": "execute_result"
    }
   ],
   "source": [
    "# convert text 'string' to list and split consultation values separatly\n",
    "consults.consult_lst"
   ]
  },
  {
   "cell_type": "code",
   "execution_count": 6,
   "metadata": {},
   "outputs": [
    {
     "data": {
      "text/plain": [
       "['Request:02-01-2021 00:40 Reply:02-01-2021 01:21',\n",
       " 'Request:02-01-2021 00:49 Reply:02-01-2021 01:30']"
      ]
     },
     "execution_count": 6,
     "metadata": {},
     "output_type": "execute_result"
    }
   ],
   "source": [
    "# display consultation details for one patient with index no # 6 after spliting\n",
    "consults.consult_lst[6]"
   ]
  },
  {
   "cell_type": "code",
   "execution_count": 7,
   "metadata": {},
   "outputs": [
    {
     "data": {
      "text/plain": [
       "'Request:02-01-2021 00:40 Reply:02-01-2021 01:21;Request:02-01-2021 00:49 Reply:02-01-2021 01:30'"
      ]
     },
     "execution_count": 7,
     "metadata": {},
     "output_type": "execute_result"
    }
   ],
   "source": [
    "# display consultation details for one patient with index no # 6 before spliting\n",
    "consults.consultations.iloc[6][0]"
   ]
  },
  {
   "cell_type": "code",
   "execution_count": 8,
   "metadata": {},
   "outputs": [
    {
     "data": {
      "text/plain": [
       "1                    [01-01-2021 23:38   02-01-2021 00:36]\n",
       "6        [02-01-2021 00:40   02-01-2021 01:21, 02-01-20...\n",
       "7                    [02-01-2021 00:49   02-01-2021 01:39]\n",
       "8                    [02-01-2021 03:24   02-01-2021 04:06]\n",
       "11                   [01-01-2021 23:46   02-01-2021 00:29]\n",
       "                               ...                        \n",
       "29950                [31-03-2021 18:01   31-03-2021 18:12]\n",
       "29951                [31-03-2021 18:58   01-04-2021 00:37]\n",
       "29952    [31-03-2021 14:21   31-03-2021 14:30, 31-03-20...\n",
       "29954                [31-03-2021 15:13   31-03-2021 16:19]\n",
       "29955                [31-03-2021 14:37   31-03-2021 19:13]\n",
       "Name: CONSULTATIONS, Length: 11508, dtype: object"
      ]
     },
     "execution_count": 8,
     "metadata": {},
     "output_type": "execute_result"
    }
   ],
   "source": [
    "# Extract request and reply date and time\n",
    "consults.date_time_lst"
   ]
  },
  {
   "cell_type": "markdown",
   "metadata": {},
   "source": [
    "### How many patients who did or did not receive medical consultations?"
   ]
  },
  {
   "cell_type": "code",
   "execution_count": 9,
   "metadata": {},
   "outputs": [
    {
     "name": "stdout",
     "output_type": "stream",
     "text": [
      "There were 18448 patients had not received consultations.\n"
     ]
    }
   ],
   "source": [
    "print(f'There were {consults.consultations.isna().sum()[0]} patients had not received consultations.')"
   ]
  },
  {
   "cell_type": "code",
   "execution_count": 10,
   "metadata": {},
   "outputs": [
    {
     "name": "stdout",
     "output_type": "stream",
     "text": [
      "There were 11508 patient had recieved consultations.\n"
     ]
    }
   ],
   "source": [
    "print(f'There were {consults.series_consult_without_null_vals.shape[0]} patient had recieved consultations.')"
   ]
  },
  {
   "cell_type": "markdown",
   "metadata": {},
   "source": [
    "### Did there any consultatios without reply? If yes, how many did have?"
   ]
  },
  {
   "cell_type": "code",
   "execution_count": 11,
   "metadata": {},
   "outputs": [
    {
     "data": {
      "text/html": [
       "<div>\n",
       "<style scoped>\n",
       "    .dataframe tbody tr th:only-of-type {\n",
       "        vertical-align: middle;\n",
       "    }\n",
       "\n",
       "    .dataframe tbody tr th {\n",
       "        vertical-align: top;\n",
       "    }\n",
       "\n",
       "    .dataframe thead th {\n",
       "        text-align: right;\n",
       "    }\n",
       "</style>\n",
       "<table border=\"1\" class=\"dataframe\">\n",
       "  <thead>\n",
       "    <tr style=\"text-align: right;\">\n",
       "      <th></th>\n",
       "      <th>Without Reply</th>\n",
       "      <th>With Reply</th>\n",
       "    </tr>\n",
       "  </thead>\n",
       "  <tbody>\n",
       "    <tr>\n",
       "      <th>Length of Text</th>\n",
       "      <td>31</td>\n",
       "      <td>47</td>\n",
       "    </tr>\n",
       "    <tr>\n",
       "      <th>Number of consultations</th>\n",
       "      <td>1208</td>\n",
       "      <td>12720</td>\n",
       "    </tr>\n",
       "  </tbody>\n",
       "</table>\n",
       "</div>"
      ],
      "text/plain": [
       "                         Without Reply  With Reply\n",
       "Length of Text                      31          47\n",
       "Number of consultations           1208       12720"
      ]
     },
     "execution_count": 11,
     "metadata": {},
     "output_type": "execute_result"
    }
   ],
   "source": [
    "consults.unique_no"
   ]
  },
  {
   "cell_type": "markdown",
   "metadata": {},
   "source": [
    "### How many were total consultations?"
   ]
  },
  {
   "cell_type": "code",
   "execution_count": 12,
   "metadata": {},
   "outputs": [
    {
     "name": "stdout",
     "output_type": "stream",
     "text": [
      "There were 13928 consultations\n"
     ]
    }
   ],
   "source": [
    "print(f'There were {consults.unique_no.iloc[1,:].sum()} consultations')"
   ]
  },
  {
   "cell_type": "markdown",
   "metadata": {},
   "source": [
    "### How long consumeed consultation or the duration betweeen the request and reply?"
   ]
  },
  {
   "cell_type": "code",
   "execution_count": 13,
   "metadata": {},
   "outputs": [
    {
     "data": {
      "text/html": [
       "<div>\n",
       "<style scoped>\n",
       "    .dataframe tbody tr th:only-of-type {\n",
       "        vertical-align: middle;\n",
       "    }\n",
       "\n",
       "    .dataframe tbody tr th {\n",
       "        vertical-align: top;\n",
       "    }\n",
       "\n",
       "    .dataframe thead th {\n",
       "        text-align: right;\n",
       "    }\n",
       "</style>\n",
       "<table border=\"1\" class=\"dataframe\">\n",
       "  <thead>\n",
       "    <tr style=\"text-align: right;\">\n",
       "      <th></th>\n",
       "      <th>Statistics</th>\n",
       "    </tr>\n",
       "  </thead>\n",
       "  <tbody>\n",
       "    <tr>\n",
       "      <th>count</th>\n",
       "      <td>12720</td>\n",
       "    </tr>\n",
       "    <tr>\n",
       "      <th>mean</th>\n",
       "      <td>0 days 01:57:56.316037735</td>\n",
       "    </tr>\n",
       "    <tr>\n",
       "      <th>std</th>\n",
       "      <td>0 days 08:25:37.195638597</td>\n",
       "    </tr>\n",
       "    <tr>\n",
       "      <th>min</th>\n",
       "      <td>0 days 00:00:00</td>\n",
       "    </tr>\n",
       "    <tr>\n",
       "      <th>25%</th>\n",
       "      <td>0 days 00:32:00</td>\n",
       "    </tr>\n",
       "    <tr>\n",
       "      <th>50%</th>\n",
       "      <td>0 days 01:02:00</td>\n",
       "    </tr>\n",
       "    <tr>\n",
       "      <th>75%</th>\n",
       "      <td>0 days 01:53:00</td>\n",
       "    </tr>\n",
       "    <tr>\n",
       "      <th>max</th>\n",
       "      <td>15 days 16:01:00</td>\n",
       "    </tr>\n",
       "  </tbody>\n",
       "</table>\n",
       "</div>"
      ],
      "text/plain": [
       "                      Statistics\n",
       "count                      12720\n",
       "mean   0 days 01:57:56.316037735\n",
       "std    0 days 08:25:37.195638597\n",
       "min              0 days 00:00:00\n",
       "25%              0 days 00:32:00\n",
       "50%              0 days 01:02:00\n",
       "75%              0 days 01:53:00\n",
       "max             15 days 16:01:00"
      ]
     },
     "execution_count": 13,
     "metadata": {},
     "output_type": "execute_result"
    }
   ],
   "source": [
    "consults.duration_stats"
   ]
  }
 ],
 "metadata": {
  "kernelspec": {
   "display_name": "Python 3",
   "language": "python",
   "name": "python3"
  },
  "language_info": {
   "codemirror_mode": {
    "name": "ipython",
    "version": 3
   },
   "file_extension": ".py",
   "mimetype": "text/x-python",
   "name": "python",
   "nbconvert_exporter": "python",
   "pygments_lexer": "ipython3",
   "version": "3.8.5"
  }
 },
 "nbformat": 4,
 "nbformat_minor": 4
}
