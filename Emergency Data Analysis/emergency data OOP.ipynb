{
 "cells": [
  {
   "cell_type": "code",
   "execution_count": 116,
   "metadata": {},
   "outputs": [],
   "source": [
    "import numpy as np\n",
    "import pandas as pd"
   ]
  },
  {
   "cell_type": "markdown",
   "metadata": {},
   "source": [
    "## Duration of Leave"
   ]
  },
  {
   "cell_type": "code",
   "execution_count": 119,
   "metadata": {},
   "outputs": [],
   "source": [
    "class EmergencyData:\n",
    "    '''create a data frame and compute duration of leave with some statistics'''\n",
    "    def __init__(self, emergency_data_file, visit_date, discharge_date):\n",
    "        '''create '''\n",
    "        self.data = self._creating_data_frame(emergency_data_file)\n",
    "        self.duration_of_leave = self._computing_duration_of_leave(self.data, visit_date, discharge_date)\n",
    "        self.duration_of_leave_statistics = self._computing_duration_of_leave_statistics(self.duration_of_leave)\n",
    "        self.percentage_of_duration_specific_hours = self._percentage_durations_less_than_four_hours(self.duration_of_leave)\n",
    "        self.percentage_of_duration_within_10_20_30_minutes = self._percentage_duration_within_10_20_30_minutes(self.duration_of_leave)\n",
    "    \n",
    "    def _creating_data_frame(self, file):\n",
    "        '''create data frame'''\n",
    "        self.df = pd.read_excel(file)\n",
    "        return self.df\n",
    "    \n",
    "    def _computing_duration_of_leave(self, df, col1, col2):\n",
    "        '''compute duration of leave'''\n",
    "        self.df['DURATION_OF_LEAVE'] = df[col2] - df[col1]\n",
    "        return self.df['DURATION_OF_LEAVE']\n",
    "    \n",
    "    def _computing_duration_of_leave_statistics(self, series):\n",
    "        '''compute basic statistics'''\n",
    "        self.stats = pd.DataFrame(series.describe())\n",
    "        return self.stats\n",
    "    \n",
    "    def _percentage_durations_less_than_four_hours(self, series):\n",
    "        '''compute percentage of leave duration for patients who left less than or within and more than four hours '''\n",
    "        less_than_four_hours = round(series[series < '0 days 4:00:00'].shape[0] / series.shape[0] * 100)\n",
    "        more_than_or_equal_four_hours = round(series[series >= '0 days 4:00:00'].shape[0] / series.shape[0] * 100)\n",
    "        \n",
    "        self.df = pd.DataFrame(\n",
    "                [str(less_than_four_hours)+'%', str(more_than_or_equal_four_hours)+'%'],\n",
    "                index = ['Less than four hours', 'More than four hours'],\n",
    "                columns= ['Percentage'],\n",
    "                    ).transpose()\n",
    "        return self.df\n",
    "    \n",
    "    def _percentage_duration_within_10_20_30_minutes(self, series):\n",
    "        '''compute percentage of leave duration within specific times'''\n",
    "        within_10_minutes = round(series[series <= '0 days 00:10:00'].shape[0] / series.shape[0] * 100)\n",
    "        within_20_minutes = round(series[series <= '0 days 00:20:00'].shape[0] / series.shape[0] * 100)\n",
    "        within_30_minutes = round(series[series <= '0 days 00:30:00'].shape[0] / series.shape[0] * 100)\n",
    "        \n",
    "        self.df = pd.DataFrame(\n",
    "                [str(within_10_minutes)+'%', str(within_20_minutes)+'%', str(within_30_minutes)+'%'],\n",
    "                index=['within_10_minutes', 'within_20_minutes', 'within_30_minutes'],\n",
    "                columns= [\"Percentage\"],\n",
    "                    ).transpose()\n",
    "        return self.df"
   ]
  },
  {
   "cell_type": "code",
   "execution_count": 120,
   "metadata": {},
   "outputs": [],
   "source": [
    "class AnlyzingFeature:\n",
    "    \"\"\" \n",
    "    Analyzing the following features:\n",
    "    - Consultations\n",
    "    - Lab Tests\n",
    "    - Radilogy\n",
    "    - Pharmach\n",
    "    \n",
    "    \"\"\"\n",
    "    def __init__(self, data, feature):\n",
    "        '''create variables which can give us specific value/s'''\n",
    "        self.single_feature = self._get_feature(data, feature)\n",
    "        self.series_without_null_vals = self._ignore_null_values(self.single_feature)\n",
    "        self.vals_as_lst = self._split_text(self.series_without_null_vals)\n",
    "        self.order_counts_df = self._find_length_text(self.vals_as_lst, feature)\n",
    "        self.lst_len_orders = self._compute_length(self.vals_as_lst)\n",
    "        self.lst_dates_times = self._extract_dates_times(self.vals_as_lst)\n",
    "        self.duration = self._compute_durations(self.lst_dates_times)\n",
    "        self.unique_no = self._unique_of_length_or_duration_stat(self.lst_len_orders)\n",
    "        self.duration_stats = self._unique_of_length_or_duration_stat(self.duration)\n",
    "        \n",
    "    def _get_feature(self, df, column_name):\n",
    "        '''get feature from dataframe'''\n",
    "        series = df.data[column_name]\n",
    "        return series\n",
    "    \n",
    "    def _ignore_null_values(self,series):\n",
    "        '''ignore null values'''\n",
    "        mask = series.isna()\n",
    "        series = series[~mask]\n",
    "        return series\n",
    "        \n",
    "    def _split_text(self,series):\n",
    "        '''split each order in the series '''\n",
    "        series_with_lsts = series.apply(lambda x: x.split(';'))\n",
    "        return series_with_lsts\n",
    "    \n",
    "    def _find_length_text(self, series, column_name):\n",
    "        '''compute number of orders for each patient to find frequent of orders'''\n",
    "        series_number = series.apply(lambda x: len(x)).value_counts()\n",
    "        frequent_orders_df = pd.DataFrame(series_number).rename(columns={str(column_name):'Frquent'})\n",
    "        return frequent_orders_df\n",
    "        \n",
    "    def _compute_length(self,series):\n",
    "        '''find length of each order'''\n",
    "        len_orders = series.apply(lambda x: [len(n) for n in x])\n",
    "        return len_orders\n",
    "    \n",
    "    def _unique_of_length_or_duration_stat(self, series):\n",
    "        '''\n",
    "        find length of text and count of orders as well as date time \n",
    "        with and without Reply or End \"Invalid Value\" and duration statistics\n",
    "        '''\n",
    "        total_lst = []\n",
    "        for lst in series:\n",
    "            total_lst.extend(lst)\n",
    "            \n",
    "        if str(series) != str(self.duration):\n",
    "            if self.single_feature.name == 'CONSULTATIONS':\n",
    "                num = 47\n",
    "            else:\n",
    "                num = 58\n",
    "                    \n",
    "            len_of_text = pd.Series(total_lst).unique()\n",
    "\n",
    "            len_without_reply = len([n for n in total_lst if n<num])\n",
    "            len_with_reply = len([n for n in total_lst if n==num])\n",
    "\n",
    "            per_without_reply = str(round(len([n for n in total_lst if n<num]) / len(total_lst) * 100))+\"%\"\n",
    "            per_with_reply = str(round(len([n for n in total_lst if n==num]) / len(total_lst) * 100))+'%'\n",
    "            \n",
    "            try:\n",
    "                without_with_reply_details = pd.DataFrame(\n",
    "                                    [\n",
    "                                     (len_of_text[1],len_of_text[0]),\n",
    "                                     (len_without_reply,len_with_reply), \n",
    "                                     (per_without_reply,per_with_reply)\n",
    "                                    ],\n",
    "                                    columns=['Without Reply/End\"Invalid Value', 'With Reply/End'],\n",
    "                                    index = [\n",
    "                                        'Length of Text \"Characters\"',\n",
    "                                        'Count of consultations',\n",
    "                                        'Percentage of consultations'\n",
    "                                    ]\n",
    "                                    )\n",
    "                return without_with_reply_details\n",
    "            \n",
    "            except:\n",
    "                \n",
    "                without_with_reply_details = pd.DataFrame(\n",
    "                                    [\n",
    "                                     len_of_text,\n",
    "                                     (len_without_reply,len_with_reply), \n",
    "                                     (per_without_reply,per_with_reply)\n",
    "                                    ],\n",
    "                                    columns=['With Reply/End','Without Reply/End \"Invalid Value\"'],\n",
    "                                    index = [\n",
    "                                        'Length of Text \"Characters\"',\n",
    "                                        'Count of consultations',\n",
    "                                        'Percentage of consultations'\n",
    "                                    ]\n",
    "                                    )\n",
    "                return without_with_reply_details\n",
    "        else:\n",
    "            return pd.DataFrame(\n",
    "                                pd.Series(total_lst).describe(), \n",
    "                                columns=['Statistics']\n",
    "                                )\n",
    "    \n",
    "    def _extract_dates_times(self, series):\n",
    "        '''extract dates and times for all orders'''\n",
    "        if self.single_feature.name == 'CONSULTATIONS':\n",
    "            series_date_time = series.apply(lambda x: [ \n",
    "                                            x[i][8:25] +'  '+ x[i][31:] \\\n",
    "                                            for i in range(len(x)) \n",
    "                                            ])\n",
    "            return series_date_time\n",
    "        \n",
    "        else:\n",
    "            series_date_time = series.apply(lambda x: \n",
    "                                            ' '.join(x).split('START: ,')[1:]\n",
    "                                           )\n",
    "            return series_date_time\n",
    "    \n",
    "    def _compute_durations(self, series):\n",
    "        '''compute durations by subtract Reply or End date time from Request or Start date time'''\n",
    "        if self.single_feature.name == 'CONSULTATIONS':\n",
    "            series_durations = series.apply(\n",
    "                lambda x: [\n",
    "                    pd.to_datetime(x[i][19:], errors='coerce',dayfirst=True) - \\\n",
    "                    pd.to_datetime(x[i][:16], errors='coerce', dayfirst=True) \\\n",
    "                    for i in range(len(x))\n",
    "                ])\n",
    "            return series_durations\n",
    "        \n",
    "        else:\n",
    "        \n",
    "            series_durations = series.apply(lambda x: \n",
    "                                            [\n",
    "                                             pd.to_datetime(x[i][24:40], dayfirst=True) - \\\n",
    "                                             pd.to_datetime(x[i][:16], dayfirst=True) \n",
    "                                             for i in range(len(x))\n",
    "                                            ])\n",
    "            return series_durations"
   ]
  },
  {
   "cell_type": "code",
   "execution_count": 121,
   "metadata": {},
   "outputs": [],
   "source": [
    "# define variables\n",
    "file = 'emergency_data.xlsx'\n",
    "visit_date = 'VISIT_DATE'\n",
    "discharge_date = 'DISCHARGE_DATE'\n",
    "consultations = 'CONSULTATIONS'\n",
    "lab_tests = 'LAB_TEST'\n",
    "radilogy = 'RADIOLOGY'\n",
    "pharmacy = 'PHARMECY'"
   ]
  },
  {
   "cell_type": "markdown",
   "metadata": {},
   "source": [
    "## Duration of Leave"
   ]
  },
  {
   "cell_type": "code",
   "execution_count": 122,
   "metadata": {},
   "outputs": [],
   "source": [
    "# specify class of EmergencyData with three arguments file, visist_date and discharge_date\n",
    "duration_of_leave = EmergencyData(file, visit_date, discharge_date) "
   ]
  },
  {
   "cell_type": "code",
   "execution_count": 123,
   "metadata": {},
   "outputs": [
    {
     "data": {
      "text/plain": [
       "0       0 days 02:06:06\n",
       "1       0 days 01:10:24\n",
       "2       0 days 01:26:16\n",
       "3       0 days 00:31:40\n",
       "4       0 days 00:17:22\n",
       "              ...      \n",
       "29951   0 days 05:30:52\n",
       "29952   0 days 04:42:33\n",
       "29953   0 days 01:22:24\n",
       "29954   0 days 05:42:30\n",
       "29955   0 days 07:00:45\n",
       "Name: DURATION_OF_LEAVE, Length: 29956, dtype: timedelta64[ns]"
      ]
     },
     "execution_count": 123,
     "metadata": {},
     "output_type": "execute_result"
    }
   ],
   "source": [
    "# compute duration of leave\n",
    "duration_of_leave.duration_of_leave"
   ]
  },
  {
   "cell_type": "code",
   "execution_count": 124,
   "metadata": {},
   "outputs": [
    {
     "data": {
      "text/html": [
       "<div>\n",
       "<style scoped>\n",
       "    .dataframe tbody tr th:only-of-type {\n",
       "        vertical-align: middle;\n",
       "    }\n",
       "\n",
       "    .dataframe tbody tr th {\n",
       "        vertical-align: top;\n",
       "    }\n",
       "\n",
       "    .dataframe thead th {\n",
       "        text-align: right;\n",
       "    }\n",
       "</style>\n",
       "<table border=\"1\" class=\"dataframe\">\n",
       "  <thead>\n",
       "    <tr style=\"text-align: right;\">\n",
       "      <th></th>\n",
       "      <th>DURATION_OF_LEAVE</th>\n",
       "    </tr>\n",
       "  </thead>\n",
       "  <tbody>\n",
       "    <tr>\n",
       "      <th>count</th>\n",
       "      <td>29956</td>\n",
       "    </tr>\n",
       "    <tr>\n",
       "      <th>mean</th>\n",
       "      <td>0 days 02:51:16.104920550</td>\n",
       "    </tr>\n",
       "    <tr>\n",
       "      <th>std</th>\n",
       "      <td>0 days 15:53:57.306856367</td>\n",
       "    </tr>\n",
       "    <tr>\n",
       "      <th>min</th>\n",
       "      <td>0 days 00:00:02</td>\n",
       "    </tr>\n",
       "    <tr>\n",
       "      <th>25%</th>\n",
       "      <td>0 days 00:44:47</td>\n",
       "    </tr>\n",
       "    <tr>\n",
       "      <th>50%</th>\n",
       "      <td>0 days 01:48:17</td>\n",
       "    </tr>\n",
       "    <tr>\n",
       "      <th>75%</th>\n",
       "      <td>0 days 03:33:32.250000</td>\n",
       "    </tr>\n",
       "    <tr>\n",
       "      <th>max</th>\n",
       "      <td>68 days 15:03:36</td>\n",
       "    </tr>\n",
       "  </tbody>\n",
       "</table>\n",
       "</div>"
      ],
      "text/plain": [
       "               DURATION_OF_LEAVE\n",
       "count                      29956\n",
       "mean   0 days 02:51:16.104920550\n",
       "std    0 days 15:53:57.306856367\n",
       "min              0 days 00:00:02\n",
       "25%              0 days 00:44:47\n",
       "50%              0 days 01:48:17\n",
       "75%       0 days 03:33:32.250000\n",
       "max             68 days 15:03:36"
      ]
     },
     "execution_count": 124,
     "metadata": {},
     "output_type": "execute_result"
    }
   ],
   "source": [
    "# duration of leave \"statistics\"\n",
    "duration_of_leave.duration_of_leave_statistics"
   ]
  },
  {
   "cell_type": "code",
   "execution_count": 125,
   "metadata": {},
   "outputs": [
    {
     "data": {
      "text/html": [
       "<div>\n",
       "<style scoped>\n",
       "    .dataframe tbody tr th:only-of-type {\n",
       "        vertical-align: middle;\n",
       "    }\n",
       "\n",
       "    .dataframe tbody tr th {\n",
       "        vertical-align: top;\n",
       "    }\n",
       "\n",
       "    .dataframe thead th {\n",
       "        text-align: right;\n",
       "    }\n",
       "</style>\n",
       "<table border=\"1\" class=\"dataframe\">\n",
       "  <thead>\n",
       "    <tr style=\"text-align: right;\">\n",
       "      <th></th>\n",
       "      <th>Less than four hours</th>\n",
       "      <th>More than four hours</th>\n",
       "    </tr>\n",
       "  </thead>\n",
       "  <tbody>\n",
       "    <tr>\n",
       "      <th>Percentage</th>\n",
       "      <td>79%</td>\n",
       "      <td>21%</td>\n",
       "    </tr>\n",
       "  </tbody>\n",
       "</table>\n",
       "</div>"
      ],
      "text/plain": [
       "           Less than four hours More than four hours\n",
       "Percentage                  79%                  21%"
      ]
     },
     "execution_count": 125,
     "metadata": {},
     "output_type": "execute_result"
    }
   ],
   "source": [
    "# Percentage of patients who left an emergency department within less or more than and equals four hours\n",
    "duration_of_leave.percentage_of_duration_specific_hours"
   ]
  },
  {
   "cell_type": "code",
   "execution_count": 126,
   "metadata": {
    "scrolled": true
   },
   "outputs": [
    {
     "data": {
      "text/html": [
       "<div>\n",
       "<style scoped>\n",
       "    .dataframe tbody tr th:only-of-type {\n",
       "        vertical-align: middle;\n",
       "    }\n",
       "\n",
       "    .dataframe tbody tr th {\n",
       "        vertical-align: top;\n",
       "    }\n",
       "\n",
       "    .dataframe thead th {\n",
       "        text-align: right;\n",
       "    }\n",
       "</style>\n",
       "<table border=\"1\" class=\"dataframe\">\n",
       "  <thead>\n",
       "    <tr style=\"text-align: right;\">\n",
       "      <th></th>\n",
       "      <th>within_10_minutes</th>\n",
       "      <th>within_20_minutes</th>\n",
       "      <th>within_30_minutes</th>\n",
       "    </tr>\n",
       "  </thead>\n",
       "  <tbody>\n",
       "    <tr>\n",
       "      <th>Percentage</th>\n",
       "      <td>3%</td>\n",
       "      <td>9%</td>\n",
       "      <td>16%</td>\n",
       "    </tr>\n",
       "  </tbody>\n",
       "</table>\n",
       "</div>"
      ],
      "text/plain": [
       "           within_10_minutes within_20_minutes within_30_minutes\n",
       "Percentage                3%                9%               16%"
      ]
     },
     "execution_count": 126,
     "metadata": {},
     "output_type": "execute_result"
    }
   ],
   "source": [
    "# Percentage of patients who left an emergency department within specific times\n",
    "duration_of_leave.percentage_of_duration_within_10_20_30_minutes"
   ]
  },
  {
   "cell_type": "markdown",
   "metadata": {},
   "source": [
    "## Analyzing Consultaions"
   ]
  },
  {
   "cell_type": "code",
   "execution_count": 127,
   "metadata": {},
   "outputs": [],
   "source": [
    "# specify class of AnalyzingFeature with two arguments consulatioans and duration of leave for inheratencing variables and methods\n",
    "consultations = AnlyzingFeature(duration_of_leave, consultations)"
   ]
  },
  {
   "cell_type": "code",
   "execution_count": 128,
   "metadata": {},
   "outputs": [
    {
     "data": {
      "text/plain": [
       "0                                                      NaN\n",
       "1          Request:01-01-2021 23:38 Reply:02-01-2021 00:36\n",
       "2                                                      NaN\n",
       "3                                                      NaN\n",
       "4                                                      NaN\n",
       "                               ...                        \n",
       "29951      Request:31-03-2021 18:58 Reply:01-04-2021 00:37\n",
       "29952    Request:31-03-2021 14:21 Reply:31-03-2021 14:3...\n",
       "29953                                                  NaN\n",
       "29954      Request:31-03-2021 15:13 Reply:31-03-2021 16:19\n",
       "29955      Request:31-03-2021 14:37 Reply:31-03-2021 19:13\n",
       "Name: CONSULTATIONS, Length: 29956, dtype: object"
      ]
     },
     "execution_count": 128,
     "metadata": {},
     "output_type": "execute_result"
    }
   ],
   "source": [
    "# consulations feature with null values\n",
    "consultations.single_feature"
   ]
  },
  {
   "cell_type": "code",
   "execution_count": 129,
   "metadata": {},
   "outputs": [
    {
     "data": {
      "text/plain": [
       "1          Request:01-01-2021 23:38 Reply:02-01-2021 00:36\n",
       "6        Request:02-01-2021 00:40 Reply:02-01-2021 01:2...\n",
       "7          Request:02-01-2021 00:49 Reply:02-01-2021 01:39\n",
       "8          Request:02-01-2021 03:24 Reply:02-01-2021 04:06\n",
       "11         Request:01-01-2021 23:46 Reply:02-01-2021 00:29\n",
       "                               ...                        \n",
       "29950      Request:31-03-2021 18:01 Reply:31-03-2021 18:12\n",
       "29951      Request:31-03-2021 18:58 Reply:01-04-2021 00:37\n",
       "29952    Request:31-03-2021 14:21 Reply:31-03-2021 14:3...\n",
       "29954      Request:31-03-2021 15:13 Reply:31-03-2021 16:19\n",
       "29955      Request:31-03-2021 14:37 Reply:31-03-2021 19:13\n",
       "Name: CONSULTATIONS, Length: 11508, dtype: object"
      ]
     },
     "execution_count": 129,
     "metadata": {},
     "output_type": "execute_result"
    }
   ],
   "source": [
    "# consulations feature without null values\n",
    "consultations.series_without_null_vals"
   ]
  },
  {
   "cell_type": "code",
   "execution_count": 130,
   "metadata": {},
   "outputs": [
    {
     "data": {
      "text/plain": [
       "1        [Request:01-01-2021 23:38 Reply:02-01-2021 00:36]\n",
       "6        [Request:02-01-2021 00:40 Reply:02-01-2021 01:...\n",
       "7        [Request:02-01-2021 00:49 Reply:02-01-2021 01:39]\n",
       "8        [Request:02-01-2021 03:24 Reply:02-01-2021 04:06]\n",
       "11       [Request:01-01-2021 23:46 Reply:02-01-2021 00:29]\n",
       "                               ...                        \n",
       "29950    [Request:31-03-2021 18:01 Reply:31-03-2021 18:12]\n",
       "29951    [Request:31-03-2021 18:58 Reply:01-04-2021 00:37]\n",
       "29952    [Request:31-03-2021 14:21 Reply:31-03-2021 14:...\n",
       "29954    [Request:31-03-2021 15:13 Reply:31-03-2021 16:19]\n",
       "29955    [Request:31-03-2021 14:37 Reply:31-03-2021 19:13]\n",
       "Name: CONSULTATIONS, Length: 11508, dtype: object"
      ]
     },
     "execution_count": 130,
     "metadata": {},
     "output_type": "execute_result"
    }
   ],
   "source": [
    "# consulations feature each order seperated for others\n",
    "consultations.vals_as_lst"
   ]
  },
  {
   "cell_type": "code",
   "execution_count": 131,
   "metadata": {},
   "outputs": [
    {
     "data": {
      "text/plain": [
       "1                    [01-01-2021 23:38   02-01-2021 00:36]\n",
       "6        [02-01-2021 00:40   02-01-2021 01:21, 02-01-20...\n",
       "7                    [02-01-2021 00:49   02-01-2021 01:39]\n",
       "8                    [02-01-2021 03:24   02-01-2021 04:06]\n",
       "11                   [01-01-2021 23:46   02-01-2021 00:29]\n",
       "                               ...                        \n",
       "29950                [31-03-2021 18:01   31-03-2021 18:12]\n",
       "29951                [31-03-2021 18:58   01-04-2021 00:37]\n",
       "29952    [31-03-2021 14:21   31-03-2021 14:30, 31-03-20...\n",
       "29954                [31-03-2021 15:13   31-03-2021 16:19]\n",
       "29955                [31-03-2021 14:37   31-03-2021 19:13]\n",
       "Name: CONSULTATIONS, Length: 11508, dtype: object"
      ]
     },
     "execution_count": 131,
     "metadata": {},
     "output_type": "execute_result"
    }
   ],
   "source": [
    "# Only dates and times for each order\n",
    "consultations.lst_dates_times"
   ]
  },
  {
   "cell_type": "code",
   "execution_count": 132,
   "metadata": {},
   "outputs": [
    {
     "data": {
      "text/plain": [
       "1            [47]\n",
       "6        [47, 47]\n",
       "7            [47]\n",
       "8            [47]\n",
       "11           [47]\n",
       "           ...   \n",
       "29950        [47]\n",
       "29951        [47]\n",
       "29952    [47, 47]\n",
       "29954        [47]\n",
       "29955        [47]\n",
       "Name: CONSULTATIONS, Length: 11508, dtype: object"
      ]
     },
     "execution_count": 132,
     "metadata": {},
     "output_type": "execute_result"
    }
   ],
   "source": [
    "# lenght of text for each order\n",
    "consultations.lst_len_orders"
   ]
  },
  {
   "cell_type": "code",
   "execution_count": 133,
   "metadata": {},
   "outputs": [
    {
     "data": {
      "text/html": [
       "<div>\n",
       "<style scoped>\n",
       "    .dataframe tbody tr th:only-of-type {\n",
       "        vertical-align: middle;\n",
       "    }\n",
       "\n",
       "    .dataframe tbody tr th {\n",
       "        vertical-align: top;\n",
       "    }\n",
       "\n",
       "    .dataframe thead th {\n",
       "        text-align: right;\n",
       "    }\n",
       "</style>\n",
       "<table border=\"1\" class=\"dataframe\">\n",
       "  <thead>\n",
       "    <tr style=\"text-align: right;\">\n",
       "      <th></th>\n",
       "      <th>Frquent</th>\n",
       "    </tr>\n",
       "  </thead>\n",
       "  <tbody>\n",
       "    <tr>\n",
       "      <th>1</th>\n",
       "      <td>9809</td>\n",
       "    </tr>\n",
       "    <tr>\n",
       "      <th>2</th>\n",
       "      <td>1242</td>\n",
       "    </tr>\n",
       "    <tr>\n",
       "      <th>3</th>\n",
       "      <td>303</td>\n",
       "    </tr>\n",
       "    <tr>\n",
       "      <th>4</th>\n",
       "      <td>89</td>\n",
       "    </tr>\n",
       "    <tr>\n",
       "      <th>5</th>\n",
       "      <td>35</td>\n",
       "    </tr>\n",
       "    <tr>\n",
       "      <th>6</th>\n",
       "      <td>21</td>\n",
       "    </tr>\n",
       "    <tr>\n",
       "      <th>7</th>\n",
       "      <td>5</td>\n",
       "    </tr>\n",
       "    <tr>\n",
       "      <th>8</th>\n",
       "      <td>3</td>\n",
       "    </tr>\n",
       "    <tr>\n",
       "      <th>10</th>\n",
       "      <td>1</td>\n",
       "    </tr>\n",
       "  </tbody>\n",
       "</table>\n",
       "</div>"
      ],
      "text/plain": [
       "    Frquent\n",
       "1      9809\n",
       "2      1242\n",
       "3       303\n",
       "4        89\n",
       "5        35\n",
       "6        21\n",
       "7         5\n",
       "8         3\n",
       "10        1"
      ]
     },
     "execution_count": 133,
     "metadata": {},
     "output_type": "execute_result"
    }
   ],
   "source": [
    "# frequents for each consultation count\n",
    "consultations.order_counts_df"
   ]
  },
  {
   "cell_type": "code",
   "execution_count": 134,
   "metadata": {},
   "outputs": [
    {
     "data": {
      "text/html": [
       "<div>\n",
       "<style scoped>\n",
       "    .dataframe tbody tr th:only-of-type {\n",
       "        vertical-align: middle;\n",
       "    }\n",
       "\n",
       "    .dataframe tbody tr th {\n",
       "        vertical-align: top;\n",
       "    }\n",
       "\n",
       "    .dataframe thead th {\n",
       "        text-align: right;\n",
       "    }\n",
       "</style>\n",
       "<table border=\"1\" class=\"dataframe\">\n",
       "  <thead>\n",
       "    <tr style=\"text-align: right;\">\n",
       "      <th></th>\n",
       "      <th>Without Reply/End\"Invalid Value</th>\n",
       "      <th>With Reply/End</th>\n",
       "    </tr>\n",
       "  </thead>\n",
       "  <tbody>\n",
       "    <tr>\n",
       "      <th>Length of Text \"Characters\"</th>\n",
       "      <td>31</td>\n",
       "      <td>47</td>\n",
       "    </tr>\n",
       "    <tr>\n",
       "      <th>Count of consultations</th>\n",
       "      <td>1208</td>\n",
       "      <td>12720</td>\n",
       "    </tr>\n",
       "    <tr>\n",
       "      <th>Percentage of consultations</th>\n",
       "      <td>9%</td>\n",
       "      <td>91%</td>\n",
       "    </tr>\n",
       "  </tbody>\n",
       "</table>\n",
       "</div>"
      ],
      "text/plain": [
       "                            Without Reply/End\"Invalid Value With Reply/End\n",
       "Length of Text \"Characters\"                              31             47\n",
       "Count of consultations                                 1208          12720\n",
       "Percentage of consultations                              9%            91%"
      ]
     },
     "execution_count": 134,
     "metadata": {},
     "output_type": "execute_result"
    }
   ],
   "source": [
    "# all orders with and without replies\"Invalid values\"\n",
    "consultations.unique_no"
   ]
  },
  {
   "cell_type": "code",
   "execution_count": 135,
   "metadata": {},
   "outputs": [
    {
     "data": {
      "text/plain": [
       "1                         [0 days 00:58:00]\n",
       "6        [0 days 00:41:00, 0 days 00:41:00]\n",
       "7                         [0 days 00:50:00]\n",
       "8                         [0 days 00:42:00]\n",
       "11                        [0 days 00:43:00]\n",
       "                        ...                \n",
       "29950                     [0 days 00:11:00]\n",
       "29951                     [0 days 05:39:00]\n",
       "29952    [0 days 00:09:00, 0 days 01:02:00]\n",
       "29954                     [0 days 01:06:00]\n",
       "29955                     [0 days 04:36:00]\n",
       "Name: CONSULTATIONS, Length: 11508, dtype: object"
      ]
     },
     "execution_count": 135,
     "metadata": {},
     "output_type": "execute_result"
    }
   ],
   "source": [
    "# compute durations for each order\n",
    "consultations.duration"
   ]
  },
  {
   "cell_type": "code",
   "execution_count": 136,
   "metadata": {},
   "outputs": [
    {
     "data": {
      "text/html": [
       "<div>\n",
       "<style scoped>\n",
       "    .dataframe tbody tr th:only-of-type {\n",
       "        vertical-align: middle;\n",
       "    }\n",
       "\n",
       "    .dataframe tbody tr th {\n",
       "        vertical-align: top;\n",
       "    }\n",
       "\n",
       "    .dataframe thead th {\n",
       "        text-align: right;\n",
       "    }\n",
       "</style>\n",
       "<table border=\"1\" class=\"dataframe\">\n",
       "  <thead>\n",
       "    <tr style=\"text-align: right;\">\n",
       "      <th></th>\n",
       "      <th>Statistics</th>\n",
       "    </tr>\n",
       "  </thead>\n",
       "  <tbody>\n",
       "    <tr>\n",
       "      <th>count</th>\n",
       "      <td>12720</td>\n",
       "    </tr>\n",
       "    <tr>\n",
       "      <th>mean</th>\n",
       "      <td>0 days 01:57:56.316037735</td>\n",
       "    </tr>\n",
       "    <tr>\n",
       "      <th>std</th>\n",
       "      <td>0 days 08:25:37.195638597</td>\n",
       "    </tr>\n",
       "    <tr>\n",
       "      <th>min</th>\n",
       "      <td>0 days 00:00:00</td>\n",
       "    </tr>\n",
       "    <tr>\n",
       "      <th>25%</th>\n",
       "      <td>0 days 00:32:00</td>\n",
       "    </tr>\n",
       "    <tr>\n",
       "      <th>50%</th>\n",
       "      <td>0 days 01:02:00</td>\n",
       "    </tr>\n",
       "    <tr>\n",
       "      <th>75%</th>\n",
       "      <td>0 days 01:53:00</td>\n",
       "    </tr>\n",
       "    <tr>\n",
       "      <th>max</th>\n",
       "      <td>15 days 16:01:00</td>\n",
       "    </tr>\n",
       "  </tbody>\n",
       "</table>\n",
       "</div>"
      ],
      "text/plain": [
       "                      Statistics\n",
       "count                      12720\n",
       "mean   0 days 01:57:56.316037735\n",
       "std    0 days 08:25:37.195638597\n",
       "min              0 days 00:00:00\n",
       "25%              0 days 00:32:00\n",
       "50%              0 days 01:02:00\n",
       "75%              0 days 01:53:00\n",
       "max             15 days 16:01:00"
      ]
     },
     "execution_count": 136,
     "metadata": {},
     "output_type": "execute_result"
    }
   ],
   "source": [
    "# consultations statistics\n",
    "consultations.duration_stats"
   ]
  },
  {
   "cell_type": "markdown",
   "metadata": {},
   "source": [
    "## Analyzing Lab Tests"
   ]
  },
  {
   "cell_type": "code",
   "execution_count": 137,
   "metadata": {},
   "outputs": [],
   "source": [
    "lab_tests = AnlyzingFeature(duration_of_leave, lab_tests)"
   ]
  },
  {
   "cell_type": "code",
   "execution_count": 128,
   "metadata": {},
   "outputs": [
    {
     "data": {
      "text/plain": [
       "0                                                      NaN\n",
       "1          Request:01-01-2021 23:38 Reply:02-01-2021 00:36\n",
       "2                                                      NaN\n",
       "3                                                      NaN\n",
       "4                                                      NaN\n",
       "                               ...                        \n",
       "29951      Request:31-03-2021 18:58 Reply:01-04-2021 00:37\n",
       "29952    Request:31-03-2021 14:21 Reply:31-03-2021 14:3...\n",
       "29953                                                  NaN\n",
       "29954      Request:31-03-2021 15:13 Reply:31-03-2021 16:19\n",
       "29955      Request:31-03-2021 14:37 Reply:31-03-2021 19:13\n",
       "Name: CONSULTATIONS, Length: 29956, dtype: object"
      ]
     },
     "execution_count": 128,
     "metadata": {},
     "output_type": "execute_result"
    }
   ],
   "source": [
    "# lab_tests feature with null values\n",
    "lab_tests.single_feature"
   ]
  },
  {
   "cell_type": "code",
   "execution_count": 129,
   "metadata": {},
   "outputs": [
    {
     "data": {
      "text/plain": [
       "1          Request:01-01-2021 23:38 Reply:02-01-2021 00:36\n",
       "6        Request:02-01-2021 00:40 Reply:02-01-2021 01:2...\n",
       "7          Request:02-01-2021 00:49 Reply:02-01-2021 01:39\n",
       "8          Request:02-01-2021 03:24 Reply:02-01-2021 04:06\n",
       "11         Request:01-01-2021 23:46 Reply:02-01-2021 00:29\n",
       "                               ...                        \n",
       "29950      Request:31-03-2021 18:01 Reply:31-03-2021 18:12\n",
       "29951      Request:31-03-2021 18:58 Reply:01-04-2021 00:37\n",
       "29952    Request:31-03-2021 14:21 Reply:31-03-2021 14:3...\n",
       "29954      Request:31-03-2021 15:13 Reply:31-03-2021 16:19\n",
       "29955      Request:31-03-2021 14:37 Reply:31-03-2021 19:13\n",
       "Name: CONSULTATIONS, Length: 11508, dtype: object"
      ]
     },
     "execution_count": 129,
     "metadata": {},
     "output_type": "execute_result"
    }
   ],
   "source": [
    "# lab_tests feature without null values\n",
    "lab_tests.series_without_null_vals"
   ]
  },
  {
   "cell_type": "code",
   "execution_count": 130,
   "metadata": {},
   "outputs": [
    {
     "data": {
      "text/plain": [
       "1        [Request:01-01-2021 23:38 Reply:02-01-2021 00:36]\n",
       "6        [Request:02-01-2021 00:40 Reply:02-01-2021 01:...\n",
       "7        [Request:02-01-2021 00:49 Reply:02-01-2021 01:39]\n",
       "8        [Request:02-01-2021 03:24 Reply:02-01-2021 04:06]\n",
       "11       [Request:01-01-2021 23:46 Reply:02-01-2021 00:29]\n",
       "                               ...                        \n",
       "29950    [Request:31-03-2021 18:01 Reply:31-03-2021 18:12]\n",
       "29951    [Request:31-03-2021 18:58 Reply:01-04-2021 00:37]\n",
       "29952    [Request:31-03-2021 14:21 Reply:31-03-2021 14:...\n",
       "29954    [Request:31-03-2021 15:13 Reply:31-03-2021 16:19]\n",
       "29955    [Request:31-03-2021 14:37 Reply:31-03-2021 19:13]\n",
       "Name: CONSULTATIONS, Length: 11508, dtype: object"
      ]
     },
     "execution_count": 130,
     "metadata": {},
     "output_type": "execute_result"
    }
   ],
   "source": [
    "# lab_tests feature each order seperated for others\n",
    "lab_tests.vals_as_lst"
   ]
  },
  {
   "cell_type": "code",
   "execution_count": 131,
   "metadata": {},
   "outputs": [
    {
     "data": {
      "text/plain": [
       "1                    [01-01-2021 23:38   02-01-2021 00:36]\n",
       "6        [02-01-2021 00:40   02-01-2021 01:21, 02-01-20...\n",
       "7                    [02-01-2021 00:49   02-01-2021 01:39]\n",
       "8                    [02-01-2021 03:24   02-01-2021 04:06]\n",
       "11                   [01-01-2021 23:46   02-01-2021 00:29]\n",
       "                               ...                        \n",
       "29950                [31-03-2021 18:01   31-03-2021 18:12]\n",
       "29951                [31-03-2021 18:58   01-04-2021 00:37]\n",
       "29952    [31-03-2021 14:21   31-03-2021 14:30, 31-03-20...\n",
       "29954                [31-03-2021 15:13   31-03-2021 16:19]\n",
       "29955                [31-03-2021 14:37   31-03-2021 19:13]\n",
       "Name: CONSULTATIONS, Length: 11508, dtype: object"
      ]
     },
     "execution_count": 131,
     "metadata": {},
     "output_type": "execute_result"
    }
   ],
   "source": [
    "# Only dates and times for each order\n",
    "lab_tests.lst_dates_times"
   ]
  },
  {
   "cell_type": "code",
   "execution_count": 132,
   "metadata": {},
   "outputs": [
    {
     "data": {
      "text/plain": [
       "1            [47]\n",
       "6        [47, 47]\n",
       "7            [47]\n",
       "8            [47]\n",
       "11           [47]\n",
       "           ...   \n",
       "29950        [47]\n",
       "29951        [47]\n",
       "29952    [47, 47]\n",
       "29954        [47]\n",
       "29955        [47]\n",
       "Name: CONSULTATIONS, Length: 11508, dtype: object"
      ]
     },
     "execution_count": 132,
     "metadata": {},
     "output_type": "execute_result"
    }
   ],
   "source": [
    "# lenght of text for each order\n",
    "lab_tests.lst_len_orders"
   ]
  },
  {
   "cell_type": "code",
   "execution_count": 133,
   "metadata": {},
   "outputs": [
    {
     "data": {
      "text/html": [
       "<div>\n",
       "<style scoped>\n",
       "    .dataframe tbody tr th:only-of-type {\n",
       "        vertical-align: middle;\n",
       "    }\n",
       "\n",
       "    .dataframe tbody tr th {\n",
       "        vertical-align: top;\n",
       "    }\n",
       "\n",
       "    .dataframe thead th {\n",
       "        text-align: right;\n",
       "    }\n",
       "</style>\n",
       "<table border=\"1\" class=\"dataframe\">\n",
       "  <thead>\n",
       "    <tr style=\"text-align: right;\">\n",
       "      <th></th>\n",
       "      <th>Frquent</th>\n",
       "    </tr>\n",
       "  </thead>\n",
       "  <tbody>\n",
       "    <tr>\n",
       "      <th>1</th>\n",
       "      <td>9809</td>\n",
       "    </tr>\n",
       "    <tr>\n",
       "      <th>2</th>\n",
       "      <td>1242</td>\n",
       "    </tr>\n",
       "    <tr>\n",
       "      <th>3</th>\n",
       "      <td>303</td>\n",
       "    </tr>\n",
       "    <tr>\n",
       "      <th>4</th>\n",
       "      <td>89</td>\n",
       "    </tr>\n",
       "    <tr>\n",
       "      <th>5</th>\n",
       "      <td>35</td>\n",
       "    </tr>\n",
       "    <tr>\n",
       "      <th>6</th>\n",
       "      <td>21</td>\n",
       "    </tr>\n",
       "    <tr>\n",
       "      <th>7</th>\n",
       "      <td>5</td>\n",
       "    </tr>\n",
       "    <tr>\n",
       "      <th>8</th>\n",
       "      <td>3</td>\n",
       "    </tr>\n",
       "    <tr>\n",
       "      <th>10</th>\n",
       "      <td>1</td>\n",
       "    </tr>\n",
       "  </tbody>\n",
       "</table>\n",
       "</div>"
      ],
      "text/plain": [
       "    Frquent\n",
       "1      9809\n",
       "2      1242\n",
       "3       303\n",
       "4        89\n",
       "5        35\n",
       "6        21\n",
       "7         5\n",
       "8         3\n",
       "10        1"
      ]
     },
     "execution_count": 133,
     "metadata": {},
     "output_type": "execute_result"
    }
   ],
   "source": [
    "# frequents for each lab tests count\n",
    "lab_tests.order_counts_df"
   ]
  },
  {
   "cell_type": "code",
   "execution_count": 134,
   "metadata": {},
   "outputs": [
    {
     "data": {
      "text/html": [
       "<div>\n",
       "<style scoped>\n",
       "    .dataframe tbody tr th:only-of-type {\n",
       "        vertical-align: middle;\n",
       "    }\n",
       "\n",
       "    .dataframe tbody tr th {\n",
       "        vertical-align: top;\n",
       "    }\n",
       "\n",
       "    .dataframe thead th {\n",
       "        text-align: right;\n",
       "    }\n",
       "</style>\n",
       "<table border=\"1\" class=\"dataframe\">\n",
       "  <thead>\n",
       "    <tr style=\"text-align: right;\">\n",
       "      <th></th>\n",
       "      <th>Without Reply/End\"Invalid Value</th>\n",
       "      <th>With Reply/End</th>\n",
       "    </tr>\n",
       "  </thead>\n",
       "  <tbody>\n",
       "    <tr>\n",
       "      <th>Length of Text \"Characters\"</th>\n",
       "      <td>31</td>\n",
       "      <td>47</td>\n",
       "    </tr>\n",
       "    <tr>\n",
       "      <th>Count of consultations</th>\n",
       "      <td>1208</td>\n",
       "      <td>12720</td>\n",
       "    </tr>\n",
       "    <tr>\n",
       "      <th>Percentage of consultations</th>\n",
       "      <td>9%</td>\n",
       "      <td>91%</td>\n",
       "    </tr>\n",
       "  </tbody>\n",
       "</table>\n",
       "</div>"
      ],
      "text/plain": [
       "                            Without Reply/End\"Invalid Value With Reply/End\n",
       "Length of Text \"Characters\"                              31             47\n",
       "Count of consultations                                 1208          12720\n",
       "Percentage of consultations                              9%            91%"
      ]
     },
     "execution_count": 134,
     "metadata": {},
     "output_type": "execute_result"
    }
   ],
   "source": [
    "# all orders with and without replies\"Invalid values\"\n",
    "lab_tests.unique_no"
   ]
  },
  {
   "cell_type": "code",
   "execution_count": 135,
   "metadata": {},
   "outputs": [
    {
     "data": {
      "text/plain": [
       "1                         [0 days 00:58:00]\n",
       "6        [0 days 00:41:00, 0 days 00:41:00]\n",
       "7                         [0 days 00:50:00]\n",
       "8                         [0 days 00:42:00]\n",
       "11                        [0 days 00:43:00]\n",
       "                        ...                \n",
       "29950                     [0 days 00:11:00]\n",
       "29951                     [0 days 05:39:00]\n",
       "29952    [0 days 00:09:00, 0 days 01:02:00]\n",
       "29954                     [0 days 01:06:00]\n",
       "29955                     [0 days 04:36:00]\n",
       "Name: CONSULTATIONS, Length: 11508, dtype: object"
      ]
     },
     "execution_count": 135,
     "metadata": {},
     "output_type": "execute_result"
    }
   ],
   "source": [
    "# compute durations for each order\n",
    "lab_tests.duration"
   ]
  },
  {
   "cell_type": "code",
   "execution_count": 136,
   "metadata": {},
   "outputs": [
    {
     "data": {
      "text/html": [
       "<div>\n",
       "<style scoped>\n",
       "    .dataframe tbody tr th:only-of-type {\n",
       "        vertical-align: middle;\n",
       "    }\n",
       "\n",
       "    .dataframe tbody tr th {\n",
       "        vertical-align: top;\n",
       "    }\n",
       "\n",
       "    .dataframe thead th {\n",
       "        text-align: right;\n",
       "    }\n",
       "</style>\n",
       "<table border=\"1\" class=\"dataframe\">\n",
       "  <thead>\n",
       "    <tr style=\"text-align: right;\">\n",
       "      <th></th>\n",
       "      <th>Statistics</th>\n",
       "    </tr>\n",
       "  </thead>\n",
       "  <tbody>\n",
       "    <tr>\n",
       "      <th>count</th>\n",
       "      <td>12720</td>\n",
       "    </tr>\n",
       "    <tr>\n",
       "      <th>mean</th>\n",
       "      <td>0 days 01:57:56.316037735</td>\n",
       "    </tr>\n",
       "    <tr>\n",
       "      <th>std</th>\n",
       "      <td>0 days 08:25:37.195638597</td>\n",
       "    </tr>\n",
       "    <tr>\n",
       "      <th>min</th>\n",
       "      <td>0 days 00:00:00</td>\n",
       "    </tr>\n",
       "    <tr>\n",
       "      <th>25%</th>\n",
       "      <td>0 days 00:32:00</td>\n",
       "    </tr>\n",
       "    <tr>\n",
       "      <th>50%</th>\n",
       "      <td>0 days 01:02:00</td>\n",
       "    </tr>\n",
       "    <tr>\n",
       "      <th>75%</th>\n",
       "      <td>0 days 01:53:00</td>\n",
       "    </tr>\n",
       "    <tr>\n",
       "      <th>max</th>\n",
       "      <td>15 days 16:01:00</td>\n",
       "    </tr>\n",
       "  </tbody>\n",
       "</table>\n",
       "</div>"
      ],
      "text/plain": [
       "                      Statistics\n",
       "count                      12720\n",
       "mean   0 days 01:57:56.316037735\n",
       "std    0 days 08:25:37.195638597\n",
       "min              0 days 00:00:00\n",
       "25%              0 days 00:32:00\n",
       "50%              0 days 01:02:00\n",
       "75%              0 days 01:53:00\n",
       "max             15 days 16:01:00"
      ]
     },
     "execution_count": 136,
     "metadata": {},
     "output_type": "execute_result"
    }
   ],
   "source": [
    "# lab tests statistics\n",
    "lab_tests.duration_stats"
   ]
  },
  {
   "cell_type": "markdown",
   "metadata": {},
   "source": [
    "## Analyzing Radiolgy"
   ]
  },
  {
   "cell_type": "code",
   "execution_count": 147,
   "metadata": {},
   "outputs": [],
   "source": [
    "radilogy = AnlyzingFeature(duration_of_leave, radilogy)"
   ]
  },
  {
   "cell_type": "code",
   "execution_count": 128,
   "metadata": {},
   "outputs": [
    {
     "data": {
      "text/plain": [
       "0                                                      NaN\n",
       "1          Request:01-01-2021 23:38 Reply:02-01-2021 00:36\n",
       "2                                                      NaN\n",
       "3                                                      NaN\n",
       "4                                                      NaN\n",
       "                               ...                        \n",
       "29951      Request:31-03-2021 18:58 Reply:01-04-2021 00:37\n",
       "29952    Request:31-03-2021 14:21 Reply:31-03-2021 14:3...\n",
       "29953                                                  NaN\n",
       "29954      Request:31-03-2021 15:13 Reply:31-03-2021 16:19\n",
       "29955      Request:31-03-2021 14:37 Reply:31-03-2021 19:13\n",
       "Name: CONSULTATIONS, Length: 29956, dtype: object"
      ]
     },
     "execution_count": 128,
     "metadata": {},
     "output_type": "execute_result"
    }
   ],
   "source": [
    "# radilogy feature with null values\n",
    "radilogy.single_feature"
   ]
  },
  {
   "cell_type": "code",
   "execution_count": 129,
   "metadata": {},
   "outputs": [
    {
     "data": {
      "text/plain": [
       "1          Request:01-01-2021 23:38 Reply:02-01-2021 00:36\n",
       "6        Request:02-01-2021 00:40 Reply:02-01-2021 01:2...\n",
       "7          Request:02-01-2021 00:49 Reply:02-01-2021 01:39\n",
       "8          Request:02-01-2021 03:24 Reply:02-01-2021 04:06\n",
       "11         Request:01-01-2021 23:46 Reply:02-01-2021 00:29\n",
       "                               ...                        \n",
       "29950      Request:31-03-2021 18:01 Reply:31-03-2021 18:12\n",
       "29951      Request:31-03-2021 18:58 Reply:01-04-2021 00:37\n",
       "29952    Request:31-03-2021 14:21 Reply:31-03-2021 14:3...\n",
       "29954      Request:31-03-2021 15:13 Reply:31-03-2021 16:19\n",
       "29955      Request:31-03-2021 14:37 Reply:31-03-2021 19:13\n",
       "Name: CONSULTATIONS, Length: 11508, dtype: object"
      ]
     },
     "execution_count": 129,
     "metadata": {},
     "output_type": "execute_result"
    }
   ],
   "source": [
    "# radilogy feature without null values\n",
    "radilogy.series_without_null_vals"
   ]
  },
  {
   "cell_type": "code",
   "execution_count": 130,
   "metadata": {},
   "outputs": [
    {
     "data": {
      "text/plain": [
       "1        [Request:01-01-2021 23:38 Reply:02-01-2021 00:36]\n",
       "6        [Request:02-01-2021 00:40 Reply:02-01-2021 01:...\n",
       "7        [Request:02-01-2021 00:49 Reply:02-01-2021 01:39]\n",
       "8        [Request:02-01-2021 03:24 Reply:02-01-2021 04:06]\n",
       "11       [Request:01-01-2021 23:46 Reply:02-01-2021 00:29]\n",
       "                               ...                        \n",
       "29950    [Request:31-03-2021 18:01 Reply:31-03-2021 18:12]\n",
       "29951    [Request:31-03-2021 18:58 Reply:01-04-2021 00:37]\n",
       "29952    [Request:31-03-2021 14:21 Reply:31-03-2021 14:...\n",
       "29954    [Request:31-03-2021 15:13 Reply:31-03-2021 16:19]\n",
       "29955    [Request:31-03-2021 14:37 Reply:31-03-2021 19:13]\n",
       "Name: CONSULTATIONS, Length: 11508, dtype: object"
      ]
     },
     "execution_count": 130,
     "metadata": {},
     "output_type": "execute_result"
    }
   ],
   "source": [
    "# radilogy feature each order seperated for others\n",
    "radilogy.vals_as_lst"
   ]
  },
  {
   "cell_type": "code",
   "execution_count": 131,
   "metadata": {},
   "outputs": [
    {
     "data": {
      "text/plain": [
       "1                    [01-01-2021 23:38   02-01-2021 00:36]\n",
       "6        [02-01-2021 00:40   02-01-2021 01:21, 02-01-20...\n",
       "7                    [02-01-2021 00:49   02-01-2021 01:39]\n",
       "8                    [02-01-2021 03:24   02-01-2021 04:06]\n",
       "11                   [01-01-2021 23:46   02-01-2021 00:29]\n",
       "                               ...                        \n",
       "29950                [31-03-2021 18:01   31-03-2021 18:12]\n",
       "29951                [31-03-2021 18:58   01-04-2021 00:37]\n",
       "29952    [31-03-2021 14:21   31-03-2021 14:30, 31-03-20...\n",
       "29954                [31-03-2021 15:13   31-03-2021 16:19]\n",
       "29955                [31-03-2021 14:37   31-03-2021 19:13]\n",
       "Name: CONSULTATIONS, Length: 11508, dtype: object"
      ]
     },
     "execution_count": 131,
     "metadata": {},
     "output_type": "execute_result"
    }
   ],
   "source": [
    "# Only dates and times for each order\n",
    "radilogy.lst_dates_times"
   ]
  },
  {
   "cell_type": "code",
   "execution_count": 132,
   "metadata": {},
   "outputs": [
    {
     "data": {
      "text/plain": [
       "1            [47]\n",
       "6        [47, 47]\n",
       "7            [47]\n",
       "8            [47]\n",
       "11           [47]\n",
       "           ...   \n",
       "29950        [47]\n",
       "29951        [47]\n",
       "29952    [47, 47]\n",
       "29954        [47]\n",
       "29955        [47]\n",
       "Name: CONSULTATIONS, Length: 11508, dtype: object"
      ]
     },
     "execution_count": 132,
     "metadata": {},
     "output_type": "execute_result"
    }
   ],
   "source": [
    "# lenght of text for each order\n",
    "radilogy.lst_len_orders"
   ]
  },
  {
   "cell_type": "code",
   "execution_count": 133,
   "metadata": {},
   "outputs": [
    {
     "data": {
      "text/html": [
       "<div>\n",
       "<style scoped>\n",
       "    .dataframe tbody tr th:only-of-type {\n",
       "        vertical-align: middle;\n",
       "    }\n",
       "\n",
       "    .dataframe tbody tr th {\n",
       "        vertical-align: top;\n",
       "    }\n",
       "\n",
       "    .dataframe thead th {\n",
       "        text-align: right;\n",
       "    }\n",
       "</style>\n",
       "<table border=\"1\" class=\"dataframe\">\n",
       "  <thead>\n",
       "    <tr style=\"text-align: right;\">\n",
       "      <th></th>\n",
       "      <th>Frquent</th>\n",
       "    </tr>\n",
       "  </thead>\n",
       "  <tbody>\n",
       "    <tr>\n",
       "      <th>1</th>\n",
       "      <td>9809</td>\n",
       "    </tr>\n",
       "    <tr>\n",
       "      <th>2</th>\n",
       "      <td>1242</td>\n",
       "    </tr>\n",
       "    <tr>\n",
       "      <th>3</th>\n",
       "      <td>303</td>\n",
       "    </tr>\n",
       "    <tr>\n",
       "      <th>4</th>\n",
       "      <td>89</td>\n",
       "    </tr>\n",
       "    <tr>\n",
       "      <th>5</th>\n",
       "      <td>35</td>\n",
       "    </tr>\n",
       "    <tr>\n",
       "      <th>6</th>\n",
       "      <td>21</td>\n",
       "    </tr>\n",
       "    <tr>\n",
       "      <th>7</th>\n",
       "      <td>5</td>\n",
       "    </tr>\n",
       "    <tr>\n",
       "      <th>8</th>\n",
       "      <td>3</td>\n",
       "    </tr>\n",
       "    <tr>\n",
       "      <th>10</th>\n",
       "      <td>1</td>\n",
       "    </tr>\n",
       "  </tbody>\n",
       "</table>\n",
       "</div>"
      ],
      "text/plain": [
       "    Frquent\n",
       "1      9809\n",
       "2      1242\n",
       "3       303\n",
       "4        89\n",
       "5        35\n",
       "6        21\n",
       "7         5\n",
       "8         3\n",
       "10        1"
      ]
     },
     "execution_count": 133,
     "metadata": {},
     "output_type": "execute_result"
    }
   ],
   "source": [
    "# frequents for each radilogy count\n",
    "radilogy.order_counts_df"
   ]
  },
  {
   "cell_type": "code",
   "execution_count": 134,
   "metadata": {},
   "outputs": [
    {
     "data": {
      "text/html": [
       "<div>\n",
       "<style scoped>\n",
       "    .dataframe tbody tr th:only-of-type {\n",
       "        vertical-align: middle;\n",
       "    }\n",
       "\n",
       "    .dataframe tbody tr th {\n",
       "        vertical-align: top;\n",
       "    }\n",
       "\n",
       "    .dataframe thead th {\n",
       "        text-align: right;\n",
       "    }\n",
       "</style>\n",
       "<table border=\"1\" class=\"dataframe\">\n",
       "  <thead>\n",
       "    <tr style=\"text-align: right;\">\n",
       "      <th></th>\n",
       "      <th>Without Reply/End\"Invalid Value</th>\n",
       "      <th>With Reply/End</th>\n",
       "    </tr>\n",
       "  </thead>\n",
       "  <tbody>\n",
       "    <tr>\n",
       "      <th>Length of Text \"Characters\"</th>\n",
       "      <td>31</td>\n",
       "      <td>47</td>\n",
       "    </tr>\n",
       "    <tr>\n",
       "      <th>Count of consultations</th>\n",
       "      <td>1208</td>\n",
       "      <td>12720</td>\n",
       "    </tr>\n",
       "    <tr>\n",
       "      <th>Percentage of consultations</th>\n",
       "      <td>9%</td>\n",
       "      <td>91%</td>\n",
       "    </tr>\n",
       "  </tbody>\n",
       "</table>\n",
       "</div>"
      ],
      "text/plain": [
       "                            Without Reply/End\"Invalid Value With Reply/End\n",
       "Length of Text \"Characters\"                              31             47\n",
       "Count of consultations                                 1208          12720\n",
       "Percentage of consultations                              9%            91%"
      ]
     },
     "execution_count": 134,
     "metadata": {},
     "output_type": "execute_result"
    }
   ],
   "source": [
    "# all orders with and without replies\"Invalid values\"\n",
    "radilogy.unique_no"
   ]
  },
  {
   "cell_type": "code",
   "execution_count": 135,
   "metadata": {},
   "outputs": [
    {
     "data": {
      "text/plain": [
       "1                         [0 days 00:58:00]\n",
       "6        [0 days 00:41:00, 0 days 00:41:00]\n",
       "7                         [0 days 00:50:00]\n",
       "8                         [0 days 00:42:00]\n",
       "11                        [0 days 00:43:00]\n",
       "                        ...                \n",
       "29950                     [0 days 00:11:00]\n",
       "29951                     [0 days 05:39:00]\n",
       "29952    [0 days 00:09:00, 0 days 01:02:00]\n",
       "29954                     [0 days 01:06:00]\n",
       "29955                     [0 days 04:36:00]\n",
       "Name: CONSULTATIONS, Length: 11508, dtype: object"
      ]
     },
     "execution_count": 135,
     "metadata": {},
     "output_type": "execute_result"
    }
   ],
   "source": [
    "# compute durations for each order\n",
    "radilogy.duration"
   ]
  },
  {
   "cell_type": "code",
   "execution_count": 136,
   "metadata": {},
   "outputs": [
    {
     "data": {
      "text/html": [
       "<div>\n",
       "<style scoped>\n",
       "    .dataframe tbody tr th:only-of-type {\n",
       "        vertical-align: middle;\n",
       "    }\n",
       "\n",
       "    .dataframe tbody tr th {\n",
       "        vertical-align: top;\n",
       "    }\n",
       "\n",
       "    .dataframe thead th {\n",
       "        text-align: right;\n",
       "    }\n",
       "</style>\n",
       "<table border=\"1\" class=\"dataframe\">\n",
       "  <thead>\n",
       "    <tr style=\"text-align: right;\">\n",
       "      <th></th>\n",
       "      <th>Statistics</th>\n",
       "    </tr>\n",
       "  </thead>\n",
       "  <tbody>\n",
       "    <tr>\n",
       "      <th>count</th>\n",
       "      <td>12720</td>\n",
       "    </tr>\n",
       "    <tr>\n",
       "      <th>mean</th>\n",
       "      <td>0 days 01:57:56.316037735</td>\n",
       "    </tr>\n",
       "    <tr>\n",
       "      <th>std</th>\n",
       "      <td>0 days 08:25:37.195638597</td>\n",
       "    </tr>\n",
       "    <tr>\n",
       "      <th>min</th>\n",
       "      <td>0 days 00:00:00</td>\n",
       "    </tr>\n",
       "    <tr>\n",
       "      <th>25%</th>\n",
       "      <td>0 days 00:32:00</td>\n",
       "    </tr>\n",
       "    <tr>\n",
       "      <th>50%</th>\n",
       "      <td>0 days 01:02:00</td>\n",
       "    </tr>\n",
       "    <tr>\n",
       "      <th>75%</th>\n",
       "      <td>0 days 01:53:00</td>\n",
       "    </tr>\n",
       "    <tr>\n",
       "      <th>max</th>\n",
       "      <td>15 days 16:01:00</td>\n",
       "    </tr>\n",
       "  </tbody>\n",
       "</table>\n",
       "</div>"
      ],
      "text/plain": [
       "                      Statistics\n",
       "count                      12720\n",
       "mean   0 days 01:57:56.316037735\n",
       "std    0 days 08:25:37.195638597\n",
       "min              0 days 00:00:00\n",
       "25%              0 days 00:32:00\n",
       "50%              0 days 01:02:00\n",
       "75%              0 days 01:53:00\n",
       "max             15 days 16:01:00"
      ]
     },
     "execution_count": 136,
     "metadata": {},
     "output_type": "execute_result"
    }
   ],
   "source": [
    "# radilogy statistics\n",
    "radilogy.duration_stats"
   ]
  },
  {
   "cell_type": "code",
   "execution_count": null,
   "metadata": {},
   "outputs": [],
   "source": []
  },
  {
   "cell_type": "markdown",
   "metadata": {},
   "source": [
    "## Analyzing Pharmacy"
   ]
  },
  {
   "cell_type": "code",
   "execution_count": 157,
   "metadata": {},
   "outputs": [],
   "source": [
    "pharmacy = AnlyzingFeature(duration_of_leave, pharmacy)"
   ]
  },
  {
   "cell_type": "code",
   "execution_count": 128,
   "metadata": {},
   "outputs": [
    {
     "data": {
      "text/plain": [
       "0                                                      NaN\n",
       "1          Request:01-01-2021 23:38 Reply:02-01-2021 00:36\n",
       "2                                                      NaN\n",
       "3                                                      NaN\n",
       "4                                                      NaN\n",
       "                               ...                        \n",
       "29951      Request:31-03-2021 18:58 Reply:01-04-2021 00:37\n",
       "29952    Request:31-03-2021 14:21 Reply:31-03-2021 14:3...\n",
       "29953                                                  NaN\n",
       "29954      Request:31-03-2021 15:13 Reply:31-03-2021 16:19\n",
       "29955      Request:31-03-2021 14:37 Reply:31-03-2021 19:13\n",
       "Name: CONSULTATIONS, Length: 29956, dtype: object"
      ]
     },
     "execution_count": 128,
     "metadata": {},
     "output_type": "execute_result"
    }
   ],
   "source": [
    "# pharmacy feature with null values\n",
    "pharmacy.single_feature"
   ]
  },
  {
   "cell_type": "code",
   "execution_count": 129,
   "metadata": {},
   "outputs": [
    {
     "data": {
      "text/plain": [
       "1          Request:01-01-2021 23:38 Reply:02-01-2021 00:36\n",
       "6        Request:02-01-2021 00:40 Reply:02-01-2021 01:2...\n",
       "7          Request:02-01-2021 00:49 Reply:02-01-2021 01:39\n",
       "8          Request:02-01-2021 03:24 Reply:02-01-2021 04:06\n",
       "11         Request:01-01-2021 23:46 Reply:02-01-2021 00:29\n",
       "                               ...                        \n",
       "29950      Request:31-03-2021 18:01 Reply:31-03-2021 18:12\n",
       "29951      Request:31-03-2021 18:58 Reply:01-04-2021 00:37\n",
       "29952    Request:31-03-2021 14:21 Reply:31-03-2021 14:3...\n",
       "29954      Request:31-03-2021 15:13 Reply:31-03-2021 16:19\n",
       "29955      Request:31-03-2021 14:37 Reply:31-03-2021 19:13\n",
       "Name: CONSULTATIONS, Length: 11508, dtype: object"
      ]
     },
     "execution_count": 129,
     "metadata": {},
     "output_type": "execute_result"
    }
   ],
   "source": [
    "# pharmacys feature without null values\n",
    "pharmacy.series_without_null_vals"
   ]
  },
  {
   "cell_type": "code",
   "execution_count": 130,
   "metadata": {},
   "outputs": [
    {
     "data": {
      "text/plain": [
       "1        [Request:01-01-2021 23:38 Reply:02-01-2021 00:36]\n",
       "6        [Request:02-01-2021 00:40 Reply:02-01-2021 01:...\n",
       "7        [Request:02-01-2021 00:49 Reply:02-01-2021 01:39]\n",
       "8        [Request:02-01-2021 03:24 Reply:02-01-2021 04:06]\n",
       "11       [Request:01-01-2021 23:46 Reply:02-01-2021 00:29]\n",
       "                               ...                        \n",
       "29950    [Request:31-03-2021 18:01 Reply:31-03-2021 18:12]\n",
       "29951    [Request:31-03-2021 18:58 Reply:01-04-2021 00:37]\n",
       "29952    [Request:31-03-2021 14:21 Reply:31-03-2021 14:...\n",
       "29954    [Request:31-03-2021 15:13 Reply:31-03-2021 16:19]\n",
       "29955    [Request:31-03-2021 14:37 Reply:31-03-2021 19:13]\n",
       "Name: CONSULTATIONS, Length: 11508, dtype: object"
      ]
     },
     "execution_count": 130,
     "metadata": {},
     "output_type": "execute_result"
    }
   ],
   "source": [
    "# pharmacys feature each order seperated for others\n",
    "pharmacy.vals_as_lst"
   ]
  },
  {
   "cell_type": "code",
   "execution_count": 131,
   "metadata": {},
   "outputs": [
    {
     "data": {
      "text/plain": [
       "1                    [01-01-2021 23:38   02-01-2021 00:36]\n",
       "6        [02-01-2021 00:40   02-01-2021 01:21, 02-01-20...\n",
       "7                    [02-01-2021 00:49   02-01-2021 01:39]\n",
       "8                    [02-01-2021 03:24   02-01-2021 04:06]\n",
       "11                   [01-01-2021 23:46   02-01-2021 00:29]\n",
       "                               ...                        \n",
       "29950                [31-03-2021 18:01   31-03-2021 18:12]\n",
       "29951                [31-03-2021 18:58   01-04-2021 00:37]\n",
       "29952    [31-03-2021 14:21   31-03-2021 14:30, 31-03-20...\n",
       "29954                [31-03-2021 15:13   31-03-2021 16:19]\n",
       "29955                [31-03-2021 14:37   31-03-2021 19:13]\n",
       "Name: CONSULTATIONS, Length: 11508, dtype: object"
      ]
     },
     "execution_count": 131,
     "metadata": {},
     "output_type": "execute_result"
    }
   ],
   "source": [
    "# Only dates and times for each order\n",
    "pharmacy.lst_dates_times"
   ]
  },
  {
   "cell_type": "code",
   "execution_count": 132,
   "metadata": {},
   "outputs": [
    {
     "data": {
      "text/plain": [
       "1            [47]\n",
       "6        [47, 47]\n",
       "7            [47]\n",
       "8            [47]\n",
       "11           [47]\n",
       "           ...   \n",
       "29950        [47]\n",
       "29951        [47]\n",
       "29952    [47, 47]\n",
       "29954        [47]\n",
       "29955        [47]\n",
       "Name: CONSULTATIONS, Length: 11508, dtype: object"
      ]
     },
     "execution_count": 132,
     "metadata": {},
     "output_type": "execute_result"
    }
   ],
   "source": [
    "# lenght of text for each order\n",
    "pharmacy.lst_len_orders"
   ]
  },
  {
   "cell_type": "code",
   "execution_count": 133,
   "metadata": {},
   "outputs": [
    {
     "data": {
      "text/html": [
       "<div>\n",
       "<style scoped>\n",
       "    .dataframe tbody tr th:only-of-type {\n",
       "        vertical-align: middle;\n",
       "    }\n",
       "\n",
       "    .dataframe tbody tr th {\n",
       "        vertical-align: top;\n",
       "    }\n",
       "\n",
       "    .dataframe thead th {\n",
       "        text-align: right;\n",
       "    }\n",
       "</style>\n",
       "<table border=\"1\" class=\"dataframe\">\n",
       "  <thead>\n",
       "    <tr style=\"text-align: right;\">\n",
       "      <th></th>\n",
       "      <th>Frquent</th>\n",
       "    </tr>\n",
       "  </thead>\n",
       "  <tbody>\n",
       "    <tr>\n",
       "      <th>1</th>\n",
       "      <td>9809</td>\n",
       "    </tr>\n",
       "    <tr>\n",
       "      <th>2</th>\n",
       "      <td>1242</td>\n",
       "    </tr>\n",
       "    <tr>\n",
       "      <th>3</th>\n",
       "      <td>303</td>\n",
       "    </tr>\n",
       "    <tr>\n",
       "      <th>4</th>\n",
       "      <td>89</td>\n",
       "    </tr>\n",
       "    <tr>\n",
       "      <th>5</th>\n",
       "      <td>35</td>\n",
       "    </tr>\n",
       "    <tr>\n",
       "      <th>6</th>\n",
       "      <td>21</td>\n",
       "    </tr>\n",
       "    <tr>\n",
       "      <th>7</th>\n",
       "      <td>5</td>\n",
       "    </tr>\n",
       "    <tr>\n",
       "      <th>8</th>\n",
       "      <td>3</td>\n",
       "    </tr>\n",
       "    <tr>\n",
       "      <th>10</th>\n",
       "      <td>1</td>\n",
       "    </tr>\n",
       "  </tbody>\n",
       "</table>\n",
       "</div>"
      ],
      "text/plain": [
       "    Frquent\n",
       "1      9809\n",
       "2      1242\n",
       "3       303\n",
       "4        89\n",
       "5        35\n",
       "6        21\n",
       "7         5\n",
       "8         3\n",
       "10        1"
      ]
     },
     "execution_count": 133,
     "metadata": {},
     "output_type": "execute_result"
    }
   ],
   "source": [
    "# frequents for each pharmacy count\n",
    "pharmacy.order_counts_df"
   ]
  },
  {
   "cell_type": "code",
   "execution_count": 134,
   "metadata": {},
   "outputs": [
    {
     "data": {
      "text/html": [
       "<div>\n",
       "<style scoped>\n",
       "    .dataframe tbody tr th:only-of-type {\n",
       "        vertical-align: middle;\n",
       "    }\n",
       "\n",
       "    .dataframe tbody tr th {\n",
       "        vertical-align: top;\n",
       "    }\n",
       "\n",
       "    .dataframe thead th {\n",
       "        text-align: right;\n",
       "    }\n",
       "</style>\n",
       "<table border=\"1\" class=\"dataframe\">\n",
       "  <thead>\n",
       "    <tr style=\"text-align: right;\">\n",
       "      <th></th>\n",
       "      <th>Without Reply/End\"Invalid Value</th>\n",
       "      <th>With Reply/End</th>\n",
       "    </tr>\n",
       "  </thead>\n",
       "  <tbody>\n",
       "    <tr>\n",
       "      <th>Length of Text \"Characters\"</th>\n",
       "      <td>31</td>\n",
       "      <td>47</td>\n",
       "    </tr>\n",
       "    <tr>\n",
       "      <th>Count of consultations</th>\n",
       "      <td>1208</td>\n",
       "      <td>12720</td>\n",
       "    </tr>\n",
       "    <tr>\n",
       "      <th>Percentage of consultations</th>\n",
       "      <td>9%</td>\n",
       "      <td>91%</td>\n",
       "    </tr>\n",
       "  </tbody>\n",
       "</table>\n",
       "</div>"
      ],
      "text/plain": [
       "                            Without Reply/End\"Invalid Value With Reply/End\n",
       "Length of Text \"Characters\"                              31             47\n",
       "Count of consultations                                 1208          12720\n",
       "Percentage of consultations                              9%            91%"
      ]
     },
     "execution_count": 134,
     "metadata": {},
     "output_type": "execute_result"
    }
   ],
   "source": [
    "# all orders with and without replies\"Invalid values\"\n",
    "pharmacy.unique_no"
   ]
  },
  {
   "cell_type": "code",
   "execution_count": 135,
   "metadata": {},
   "outputs": [
    {
     "data": {
      "text/plain": [
       "1                         [0 days 00:58:00]\n",
       "6        [0 days 00:41:00, 0 days 00:41:00]\n",
       "7                         [0 days 00:50:00]\n",
       "8                         [0 days 00:42:00]\n",
       "11                        [0 days 00:43:00]\n",
       "                        ...                \n",
       "29950                     [0 days 00:11:00]\n",
       "29951                     [0 days 05:39:00]\n",
       "29952    [0 days 00:09:00, 0 days 01:02:00]\n",
       "29954                     [0 days 01:06:00]\n",
       "29955                     [0 days 04:36:00]\n",
       "Name: CONSULTATIONS, Length: 11508, dtype: object"
      ]
     },
     "execution_count": 135,
     "metadata": {},
     "output_type": "execute_result"
    }
   ],
   "source": [
    "# compute durations for each order\n",
    "pharmacy.duration"
   ]
  },
  {
   "cell_type": "code",
   "execution_count": 136,
   "metadata": {},
   "outputs": [
    {
     "data": {
      "text/html": [
       "<div>\n",
       "<style scoped>\n",
       "    .dataframe tbody tr th:only-of-type {\n",
       "        vertical-align: middle;\n",
       "    }\n",
       "\n",
       "    .dataframe tbody tr th {\n",
       "        vertical-align: top;\n",
       "    }\n",
       "\n",
       "    .dataframe thead th {\n",
       "        text-align: right;\n",
       "    }\n",
       "</style>\n",
       "<table border=\"1\" class=\"dataframe\">\n",
       "  <thead>\n",
       "    <tr style=\"text-align: right;\">\n",
       "      <th></th>\n",
       "      <th>Statistics</th>\n",
       "    </tr>\n",
       "  </thead>\n",
       "  <tbody>\n",
       "    <tr>\n",
       "      <th>count</th>\n",
       "      <td>12720</td>\n",
       "    </tr>\n",
       "    <tr>\n",
       "      <th>mean</th>\n",
       "      <td>0 days 01:57:56.316037735</td>\n",
       "    </tr>\n",
       "    <tr>\n",
       "      <th>std</th>\n",
       "      <td>0 days 08:25:37.195638597</td>\n",
       "    </tr>\n",
       "    <tr>\n",
       "      <th>min</th>\n",
       "      <td>0 days 00:00:00</td>\n",
       "    </tr>\n",
       "    <tr>\n",
       "      <th>25%</th>\n",
       "      <td>0 days 00:32:00</td>\n",
       "    </tr>\n",
       "    <tr>\n",
       "      <th>50%</th>\n",
       "      <td>0 days 01:02:00</td>\n",
       "    </tr>\n",
       "    <tr>\n",
       "      <th>75%</th>\n",
       "      <td>0 days 01:53:00</td>\n",
       "    </tr>\n",
       "    <tr>\n",
       "      <th>max</th>\n",
       "      <td>15 days 16:01:00</td>\n",
       "    </tr>\n",
       "  </tbody>\n",
       "</table>\n",
       "</div>"
      ],
      "text/plain": [
       "                      Statistics\n",
       "count                      12720\n",
       "mean   0 days 01:57:56.316037735\n",
       "std    0 days 08:25:37.195638597\n",
       "min              0 days 00:00:00\n",
       "25%              0 days 00:32:00\n",
       "50%              0 days 01:02:00\n",
       "75%              0 days 01:53:00\n",
       "max             15 days 16:01:00"
      ]
     },
     "execution_count": 136,
     "metadata": {},
     "output_type": "execute_result"
    }
   ],
   "source": [
    "# pharmacy statistics\n",
    "pharmacy.duration_stats"
   ]
  },
  {
   "cell_type": "code",
   "execution_count": null,
   "metadata": {},
   "outputs": [],
   "source": []
  }
 ],
 "metadata": {
  "kernelspec": {
   "display_name": "Python 3",
   "language": "python",
   "name": "python3"
  },
  "language_info": {
   "codemirror_mode": {
    "name": "ipython",
    "version": 3
   },
   "file_extension": ".py",
   "mimetype": "text/x-python",
   "name": "python",
   "nbconvert_exporter": "python",
   "pygments_lexer": "ipython3",
   "version": "3.8.5"
  }
 },
 "nbformat": 4,
 "nbformat_minor": 4
}
