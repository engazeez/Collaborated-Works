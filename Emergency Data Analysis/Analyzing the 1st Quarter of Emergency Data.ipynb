{
 "cells": [
  {
   "cell_type": "markdown",
   "metadata": {},
   "source": [
    "# 1st Quarter of Emergency Data in 2021"
   ]
  },
  {
   "cell_type": "markdown",
   "metadata": {},
   "source": [
    "## Content"
   ]
  },
  {
   "cell_type": "markdown",
   "metadata": {},
   "source": [
    "- Introduction\n",
    "- Features description\n",
    "- Explore data\n",
    "- Computing Duration of Leave\n",
    "- Count & percentage of Patients who entered clinic\n",
    "- Count & percentage of Patients who stayed emergency clininc\n",
    "- Conslultations Analysis\n",
    "- Lab Tests Analysis\n",
    "- Radilogy Analysis\n",
    "- Pharmacy Analysis"
   ]
  },
  {
   "cell_type": "markdown",
   "metadata": {},
   "source": [
    "## Intorduction"
   ]
  },
  {
   "cell_type": "markdown",
   "metadata": {},
   "source": [
    "This is the development environment which we used to check the data and sure our outcomes are correctanced. After we sured all outcomes were correctanced, we used OOP to design system which take path of data and get up outcomes based on specific variable we can select. This step in the next file."
   ]
  },
  {
   "cell_type": "markdown",
   "metadata": {},
   "source": [
    "## Features description"
   ]
  },
  {
   "cell_type": "markdown",
   "metadata": {},
   "source": [
    "|Feature Name | Descrption |\n",
    "|:-------------------|:--------------------:|\n",
    "|PATIENT_FILE | refers to number of patient file |\n",
    "|AGE | refers to Patient age |\n",
    "|GENDER| refers to Patient gender (male\"M\" or femal\"F\") |\n",
    "|NATIONALITY| refers to Patient nationality |\n",
    "|COMPLAIN_DESC| refers to an illness or medical condition |\n",
    "|SECTION_NO| refers to an emergency section |\n",
    "|SERIAL_NO| refers to number of situation | \n",
    "|VISIT_DATE| refers to visiting date and time |\n",
    "|DISCHARGE_DATE| refers to date and time which Patient went out from hospital |\n",
    "|TRIAGE_DATE| referes to date and time whcih Patient went in Triage Room|\n",
    "|ENTERED_CLINIC_TIME| refers to date and time which Patient transormed to Inpatient Clinic |\n",
    "|CLASSIFICATION_DESC| refers to category of Patient citizen, resident and so on |\n",
    "|PARTITION_DESC| refers to the room which patient transmit it after the initial inpection|\n",
    "|IS_ADMITTED| refers to a patinet statment deserve the care or leave the emergency|\n",
    "|CONSULTATIONS| refers to details \"text\" of consultations which patient had received it|\n",
    "|LAB_TEST| refers to details \"text\" of lab tests which patient had got it|\n",
    "|RADIOLOGY| refers to details \"text\" of radilogy which patient had got it|\n",
    "|PHARMECY| refers to details \"text\" of pharmacy which patient had got it|"
   ]
  },
  {
   "cell_type": "code",
   "execution_count": 1,
   "metadata": {},
   "outputs": [],
   "source": [
    "# Import libraries\n",
    "\n",
    "import numpy as np\n",
    "import pandas as pd\n",
    "import matplotlib.pyplot as plt\n",
    "import matplotlib as mpl\n",
    "import seaborn as sns\n",
    "import datetime\n",
    "mpl.rc('axes', labelsize=14)\n",
    "mpl.rc('xtick', labelsize=12)\n",
    "mpl.rc('ytick', labelsize=12)\n",
    "plt.style.use('fivethirtyeight')\n",
    "%matplotlib inline"
   ]
  },
  {
   "cell_type": "code",
   "execution_count": 2,
   "metadata": {},
   "outputs": [],
   "source": [
    "# Read data\n",
    "df = pd.read_excel('emergency_data.xlsx')"
   ]
  },
  {
   "cell_type": "markdown",
   "metadata": {},
   "source": [
    "## Explore Data"
   ]
  },
  {
   "cell_type": "code",
   "execution_count": 3,
   "metadata": {},
   "outputs": [
    {
     "data": {
      "text/html": [
       "<div>\n",
       "<style scoped>\n",
       "    .dataframe tbody tr th:only-of-type {\n",
       "        vertical-align: middle;\n",
       "    }\n",
       "\n",
       "    .dataframe tbody tr th {\n",
       "        vertical-align: top;\n",
       "    }\n",
       "\n",
       "    .dataframe thead th {\n",
       "        text-align: right;\n",
       "    }\n",
       "</style>\n",
       "<table border=\"1\" class=\"dataframe\">\n",
       "  <thead>\n",
       "    <tr style=\"text-align: right;\">\n",
       "      <th></th>\n",
       "      <th>PATIENT_FILE</th>\n",
       "      <th>AGE</th>\n",
       "      <th>GENDER</th>\n",
       "      <th>NATIONALITY</th>\n",
       "      <th>COMPLAIN_DESC</th>\n",
       "      <th>SECTION_NO</th>\n",
       "      <th>SERIAL_NO</th>\n",
       "      <th>VISIT_DATE</th>\n",
       "      <th>DISCHARGE_DATE</th>\n",
       "      <th>TRIAGE_DATE</th>\n",
       "      <th>ENTERED_CLINIC_TIME</th>\n",
       "      <th>CLASSIFICATION_DESC</th>\n",
       "      <th>PARTITION_DESC</th>\n",
       "      <th>IS_ADMITTED</th>\n",
       "      <th>ADMISSION_DATE</th>\n",
       "      <th>ARRIVAL_DATE</th>\n",
       "      <th>CONSULTATIONS</th>\n",
       "      <th>LAB_TEST</th>\n",
       "      <th>RADIOLOGY</th>\n",
       "      <th>PHARMECY</th>\n",
       "    </tr>\n",
       "  </thead>\n",
       "  <tbody>\n",
       "    <tr>\n",
       "      <th>0</th>\n",
       "      <td>438288-F</td>\n",
       "      <td>52</td>\n",
       "      <td>F</td>\n",
       "      <td>Saudi</td>\n",
       "      <td>SICK</td>\n",
       "      <td>1852</td>\n",
       "      <td>3891132</td>\n",
       "      <td>2021-01-01 23:24:54</td>\n",
       "      <td>2021-01-02 01:31:00</td>\n",
       "      <td>2021-01-01 23:24:54</td>\n",
       "      <td>NaT</td>\n",
       "      <td>CITIZEN</td>\n",
       "      <td>Urgent Care Area</td>\n",
       "      <td>No</td>\n",
       "      <td>NaT</td>\n",
       "      <td>NaT</td>\n",
       "      <td>NaN</td>\n",
       "      <td>NaN</td>\n",
       "      <td>NaN</td>\n",
       "      <td>NaN</td>\n",
       "    </tr>\n",
       "    <tr>\n",
       "      <th>1</th>\n",
       "      <td>819221-F</td>\n",
       "      <td>3</td>\n",
       "      <td>F</td>\n",
       "      <td>Saudi</td>\n",
       "      <td>OTHER ACCIDENTS</td>\n",
       "      <td>1852</td>\n",
       "      <td>3891133</td>\n",
       "      <td>2021-01-01 23:26:36</td>\n",
       "      <td>2021-01-02 00:37:00</td>\n",
       "      <td>2021-01-01 23:26:36</td>\n",
       "      <td>NaT</td>\n",
       "      <td>CITIZEN</td>\n",
       "      <td>Trauma Care Area</td>\n",
       "      <td>No</td>\n",
       "      <td>NaT</td>\n",
       "      <td>NaT</td>\n",
       "      <td>Request:01-01-2021 23:38 Reply:02-01-2021 00:36</td>\n",
       "      <td>NaN</td>\n",
       "      <td>NaN</td>\n",
       "      <td>3945770 START: ,02-01-2021 00:36, END: ,02-01-...</td>\n",
       "    </tr>\n",
       "    <tr>\n",
       "      <th>2</th>\n",
       "      <td>384018-F</td>\n",
       "      <td>51</td>\n",
       "      <td>F</td>\n",
       "      <td>Saudi</td>\n",
       "      <td>SICK</td>\n",
       "      <td>1852</td>\n",
       "      <td>3891134</td>\n",
       "      <td>2021-01-01 23:30:44</td>\n",
       "      <td>2021-01-02 00:57:00</td>\n",
       "      <td>2021-01-01 23:30:44</td>\n",
       "      <td>2021-01-02 00:57:46</td>\n",
       "      <td>CITIZEN</td>\n",
       "      <td>Urgent Care Area</td>\n",
       "      <td>No</td>\n",
       "      <td>NaT</td>\n",
       "      <td>NaT</td>\n",
       "      <td>NaN</td>\n",
       "      <td>NaN</td>\n",
       "      <td>NaN</td>\n",
       "      <td>3945782 START: ,02-01-2021 00:57, END: ,02-01-...</td>\n",
       "    </tr>\n",
       "    <tr>\n",
       "      <th>3</th>\n",
       "      <td>405077-T</td>\n",
       "      <td>34</td>\n",
       "      <td>M</td>\n",
       "      <td>Saudi</td>\n",
       "      <td>OTHER ACCIDENTS</td>\n",
       "      <td>1852</td>\n",
       "      <td>3891135</td>\n",
       "      <td>2021-01-01 23:37:20</td>\n",
       "      <td>2021-01-02 00:09:00</td>\n",
       "      <td>2021-01-01 23:37:20</td>\n",
       "      <td>NaT</td>\n",
       "      <td>CITIZEN</td>\n",
       "      <td>Trauma Care Area</td>\n",
       "      <td>No</td>\n",
       "      <td>NaT</td>\n",
       "      <td>NaT</td>\n",
       "      <td>NaN</td>\n",
       "      <td>NaN</td>\n",
       "      <td>NaN</td>\n",
       "      <td>3945747 START: ,02-01-2021 00:09, END: ,02-01-...</td>\n",
       "    </tr>\n",
       "    <tr>\n",
       "      <th>4</th>\n",
       "      <td>2311828-T</td>\n",
       "      <td>3</td>\n",
       "      <td>F</td>\n",
       "      <td>Saudi</td>\n",
       "      <td>OTHER ACCIDENTS</td>\n",
       "      <td>1852</td>\n",
       "      <td>3891136</td>\n",
       "      <td>2021-01-01 23:43:38</td>\n",
       "      <td>2021-01-02 00:01:00</td>\n",
       "      <td>2021-01-01 23:43:38</td>\n",
       "      <td>NaT</td>\n",
       "      <td>CITIZEN</td>\n",
       "      <td>Trauma Care Area</td>\n",
       "      <td>No</td>\n",
       "      <td>NaT</td>\n",
       "      <td>NaT</td>\n",
       "      <td>NaN</td>\n",
       "      <td>NaN</td>\n",
       "      <td>NaN</td>\n",
       "      <td>3945742 START: ,02-01-2021 00:01, END: ,02-01-...</td>\n",
       "    </tr>\n",
       "  </tbody>\n",
       "</table>\n",
       "</div>"
      ],
      "text/plain": [
       "  PATIENT_FILE  AGE GENDER NATIONALITY    COMPLAIN_DESC  SECTION_NO  \\\n",
       "0     438288-F   52      F       Saudi             SICK        1852   \n",
       "1     819221-F    3      F       Saudi  OTHER ACCIDENTS        1852   \n",
       "2     384018-F   51      F       Saudi             SICK        1852   \n",
       "3     405077-T   34      M       Saudi  OTHER ACCIDENTS        1852   \n",
       "4    2311828-T    3      F       Saudi  OTHER ACCIDENTS        1852   \n",
       "\n",
       "   SERIAL_NO          VISIT_DATE      DISCHARGE_DATE         TRIAGE_DATE  \\\n",
       "0    3891132 2021-01-01 23:24:54 2021-01-02 01:31:00 2021-01-01 23:24:54   \n",
       "1    3891133 2021-01-01 23:26:36 2021-01-02 00:37:00 2021-01-01 23:26:36   \n",
       "2    3891134 2021-01-01 23:30:44 2021-01-02 00:57:00 2021-01-01 23:30:44   \n",
       "3    3891135 2021-01-01 23:37:20 2021-01-02 00:09:00 2021-01-01 23:37:20   \n",
       "4    3891136 2021-01-01 23:43:38 2021-01-02 00:01:00 2021-01-01 23:43:38   \n",
       "\n",
       "  ENTERED_CLINIC_TIME CLASSIFICATION_DESC    PARTITION_DESC IS_ADMITTED  \\\n",
       "0                 NaT             CITIZEN  Urgent Care Area          No   \n",
       "1                 NaT             CITIZEN  Trauma Care Area          No   \n",
       "2 2021-01-02 00:57:46             CITIZEN  Urgent Care Area          No   \n",
       "3                 NaT             CITIZEN  Trauma Care Area          No   \n",
       "4                 NaT             CITIZEN  Trauma Care Area          No   \n",
       "\n",
       "  ADMISSION_DATE ARRIVAL_DATE  \\\n",
       "0            NaT          NaT   \n",
       "1            NaT          NaT   \n",
       "2            NaT          NaT   \n",
       "3            NaT          NaT   \n",
       "4            NaT          NaT   \n",
       "\n",
       "                                     CONSULTATIONS LAB_TEST RADIOLOGY  \\\n",
       "0                                              NaN      NaN       NaN   \n",
       "1  Request:01-01-2021 23:38 Reply:02-01-2021 00:36      NaN       NaN   \n",
       "2                                              NaN      NaN       NaN   \n",
       "3                                              NaN      NaN       NaN   \n",
       "4                                              NaN      NaN       NaN   \n",
       "\n",
       "                                            PHARMECY  \n",
       "0                                                NaN  \n",
       "1  3945770 START: ,02-01-2021 00:36, END: ,02-01-...  \n",
       "2  3945782 START: ,02-01-2021 00:57, END: ,02-01-...  \n",
       "3  3945747 START: ,02-01-2021 00:09, END: ,02-01-...  \n",
       "4  3945742 START: ,02-01-2021 00:01, END: ,02-01-...  "
      ]
     },
     "execution_count": 3,
     "metadata": {},
     "output_type": "execute_result"
    }
   ],
   "source": [
    "# display the 1st five rows\n",
    "df.head()"
   ]
  },
  {
   "cell_type": "code",
   "execution_count": 4,
   "metadata": {},
   "outputs": [
    {
     "data": {
      "text/plain": [
       "(29956, 20)"
      ]
     },
     "execution_count": 4,
     "metadata": {},
     "output_type": "execute_result"
    }
   ],
   "source": [
    "# display the number of rows and columns\"features\" respectivly\n",
    "df.shape"
   ]
  },
  {
   "cell_type": "code",
   "execution_count": 5,
   "metadata": {},
   "outputs": [
    {
     "data": {
      "text/plain": [
       "PATIENT_FILE               0\n",
       "AGE                        0\n",
       "GENDER                     0\n",
       "NATIONALITY                0\n",
       "COMPLAIN_DESC              0\n",
       "SECTION_NO                 0\n",
       "SERIAL_NO                  0\n",
       "VISIT_DATE                 0\n",
       "DISCHARGE_DATE             0\n",
       "TRIAGE_DATE                2\n",
       "ENTERED_CLINIC_TIME    18041\n",
       "CLASSIFICATION_DESC        0\n",
       "PARTITION_DESC             0\n",
       "IS_ADMITTED                0\n",
       "ADMISSION_DATE         26614\n",
       "ARRIVAL_DATE           26614\n",
       "CONSULTATIONS          18448\n",
       "LAB_TEST               18162\n",
       "RADIOLOGY              16327\n",
       "PHARMECY               16449\n",
       "dtype: int64"
      ]
     },
     "execution_count": 5,
     "metadata": {},
     "output_type": "execute_result"
    }
   ],
   "source": [
    "# display the number of null values for each columns \"features\"\n",
    "df.isna().sum()"
   ]
  },
  {
   "cell_type": "code",
   "execution_count": 6,
   "metadata": {},
   "outputs": [
    {
     "name": "stdout",
     "output_type": "stream",
     "text": [
      "<class 'pandas.core.frame.DataFrame'>\n",
      "RangeIndex: 29956 entries, 0 to 29955\n",
      "Data columns (total 20 columns):\n",
      " #   Column               Non-Null Count  Dtype         \n",
      "---  ------               --------------  -----         \n",
      " 0   PATIENT_FILE         29956 non-null  object        \n",
      " 1   AGE                  29956 non-null  int64         \n",
      " 2   GENDER               29956 non-null  object        \n",
      " 3   NATIONALITY          29956 non-null  object        \n",
      " 4   COMPLAIN_DESC        29956 non-null  object        \n",
      " 5   SECTION_NO           29956 non-null  int64         \n",
      " 6   SERIAL_NO            29956 non-null  int64         \n",
      " 7   VISIT_DATE           29956 non-null  datetime64[ns]\n",
      " 8   DISCHARGE_DATE       29956 non-null  datetime64[ns]\n",
      " 9   TRIAGE_DATE          29954 non-null  datetime64[ns]\n",
      " 10  ENTERED_CLINIC_TIME  11915 non-null  datetime64[ns]\n",
      " 11  CLASSIFICATION_DESC  29956 non-null  object        \n",
      " 12  PARTITION_DESC       29956 non-null  object        \n",
      " 13  IS_ADMITTED          29956 non-null  object        \n",
      " 14  ADMISSION_DATE       3342 non-null   datetime64[ns]\n",
      " 15  ARRIVAL_DATE         3342 non-null   datetime64[ns]\n",
      " 16  CONSULTATIONS        11508 non-null  object        \n",
      " 17  LAB_TEST             11794 non-null  object        \n",
      " 18  RADIOLOGY            13629 non-null  object        \n",
      " 19  PHARMECY             13507 non-null  object        \n",
      "dtypes: datetime64[ns](6), int64(3), object(11)\n",
      "memory usage: 4.6+ MB\n"
     ]
    }
   ],
   "source": [
    "df.info()"
   ]
  },
  {
   "cell_type": "markdown",
   "metadata": {},
   "source": [
    "# DURATION OF LEAVE"
   ]
  },
  {
   "cell_type": "markdown",
   "metadata": {},
   "source": [
    "$ DURATION\\ OF\\ LEAVE =  DISCHARGE\\ DATE - VISIT\\ DATE $"
   ]
  },
  {
   "cell_type": "code",
   "execution_count": 7,
   "metadata": {},
   "outputs": [],
   "source": [
    "def duration_of_leave(df, entering_emergency_date, outing_emergency_date):\n",
    "    ''' compute duration of leave'''\n",
    "    df['Duration of Leave'] = df[outing_emergency_date] - df[entering_emergency_date]\n",
    "    return df['Duration of Leave']"
   ]
  },
  {
   "cell_type": "code",
   "execution_count": 8,
   "metadata": {},
   "outputs": [],
   "source": [
    "dur_leave = duration_of_leave(df, 'VISIT_DATE', 'DISCHARGE_DATE')"
   ]
  },
  {
   "cell_type": "code",
   "execution_count": 9,
   "metadata": {},
   "outputs": [
    {
     "data": {
      "text/html": [
       "<div>\n",
       "<style scoped>\n",
       "    .dataframe tbody tr th:only-of-type {\n",
       "        vertical-align: middle;\n",
       "    }\n",
       "\n",
       "    .dataframe tbody tr th {\n",
       "        vertical-align: top;\n",
       "    }\n",
       "\n",
       "    .dataframe thead th {\n",
       "        text-align: right;\n",
       "    }\n",
       "</style>\n",
       "<table border=\"1\" class=\"dataframe\">\n",
       "  <thead>\n",
       "    <tr style=\"text-align: right;\">\n",
       "      <th></th>\n",
       "      <th>Duration of Leave</th>\n",
       "    </tr>\n",
       "  </thead>\n",
       "  <tbody>\n",
       "    <tr>\n",
       "      <th>count</th>\n",
       "      <td>29956</td>\n",
       "    </tr>\n",
       "    <tr>\n",
       "      <th>mean</th>\n",
       "      <td>0 days 02:51:16.104920550</td>\n",
       "    </tr>\n",
       "    <tr>\n",
       "      <th>std</th>\n",
       "      <td>0 days 15:53:57.306856367</td>\n",
       "    </tr>\n",
       "    <tr>\n",
       "      <th>min</th>\n",
       "      <td>0 days 00:00:02</td>\n",
       "    </tr>\n",
       "    <tr>\n",
       "      <th>25%</th>\n",
       "      <td>0 days 00:44:47</td>\n",
       "    </tr>\n",
       "    <tr>\n",
       "      <th>50%</th>\n",
       "      <td>0 days 01:48:17</td>\n",
       "    </tr>\n",
       "    <tr>\n",
       "      <th>75%</th>\n",
       "      <td>0 days 03:33:32.250000</td>\n",
       "    </tr>\n",
       "    <tr>\n",
       "      <th>max</th>\n",
       "      <td>68 days 15:03:36</td>\n",
       "    </tr>\n",
       "  </tbody>\n",
       "</table>\n",
       "</div>"
      ],
      "text/plain": [
       "               Duration of Leave\n",
       "count                      29956\n",
       "mean   0 days 02:51:16.104920550\n",
       "std    0 days 15:53:57.306856367\n",
       "min              0 days 00:00:02\n",
       "25%              0 days 00:44:47\n",
       "50%              0 days 01:48:17\n",
       "75%       0 days 03:33:32.250000\n",
       "max             68 days 15:03:36"
      ]
     },
     "execution_count": 9,
     "metadata": {},
     "output_type": "execute_result"
    }
   ],
   "source": [
    "pd.DataFrame(dur_leave.describe())"
   ]
  },
  {
   "cell_type": "code",
   "execution_count": 10,
   "metadata": {},
   "outputs": [
    {
     "name": "stdout",
     "output_type": "stream",
     "text": [
      "Pecentage of Patients who left less than four Hours:  79 %\n"
     ]
    }
   ],
   "source": [
    "print('Pecentage of Patients who left less than four Hours: ', round(df[df['Duration of Leave'] < '0 days 4:00:00'].shape[0] / df.shape[0] * 100), '%')"
   ]
  },
  {
   "cell_type": "code",
   "execution_count": 11,
   "metadata": {},
   "outputs": [
    {
     "name": "stdout",
     "output_type": "stream",
     "text": [
      "Pecentage of Patients who left in four Hours or more than:  21 %\n"
     ]
    }
   ],
   "source": [
    "print('Pecentage of Patients who left in four Hours or more than: ', round(df[df['Duration of Leave'] >= '0 days 4:00:00'].shape[0] / df.shape[0] * 100), '%')"
   ]
  },
  {
   "cell_type": "code",
   "execution_count": 12,
   "metadata": {},
   "outputs": [
    {
     "data": {
      "image/png": "[encoded data removed]",
      "text/plain": [
       "<Figure size 432x576 with 1 Axes>"
      ]
     },
     "metadata": {},
     "output_type": "display_data"
    }
   ],
   "source": [
    "plt.figure(figsize=(6,8))\n",
    "x = [\n",
    "round(df[df['Duration of Leave'] < '0 days 4:00:00'].shape[0] / df.shape[0] * 100,1) ,\n",
    "round(df[df['Duration of Leave'] >= '0 days 4:00:00'].shape[0] / df.shape[0] * 100,1)\n",
    "]\n",
    "\n",
    "plt.pie(\n",
    "    x = x,\n",
    "    autopct='%1.2f%%')\n",
    "plt.title('Duration of Leave ( Pecentage ) ')\n",
    "plt.legend(['Lower than four hour', 'Higher than or within four hour'], loc=(0.8,0.8));"
   ]
  },
  {
   "cell_type": "markdown",
   "metadata": {},
   "source": [
    "# Find count and percentage of patient who entered clinic"
   ]
  },
  {
   "cell_type": "code",
   "execution_count": 13,
   "metadata": {},
   "outputs": [
    {
     "data": {
      "text/plain": [
       "11915"
      ]
     },
     "execution_count": 13,
     "metadata": {},
     "output_type": "execute_result"
    }
   ],
   "source": [
    "df[~df['ENTERED_CLINIC_TIME'].isna()]['ENTERED_CLINIC_TIME'].shape[0]"
   ]
  },
  {
   "cell_type": "code",
   "execution_count": 14,
   "metadata": {},
   "outputs": [
    {
     "data": {
      "text/plain": [
       "11915"
      ]
     },
     "execution_count": 14,
     "metadata": {},
     "output_type": "execute_result"
    }
   ],
   "source": [
    "df['TRIAGE_DATE'][df[~df['ENTERED_CLINIC_TIME'].isna()].index].shape[0]"
   ]
  },
  {
   "cell_type": "code",
   "execution_count": 15,
   "metadata": {},
   "outputs": [
    {
     "name": "stdout",
     "output_type": "stream",
     "text": [
      "40 %\n"
     ]
    }
   ],
   "source": [
    "print(round(df[~df['ENTERED_CLINIC_TIME'].isna()]['ENTERED_CLINIC_TIME'].shape[0] / df.shape[0] *100), '%')"
   ]
  },
  {
   "cell_type": "code",
   "execution_count": 16,
   "metadata": {},
   "outputs": [
    {
     "data": {
      "text/plain": [
       "60"
      ]
     },
     "execution_count": 16,
     "metadata": {},
     "output_type": "execute_result"
    }
   ],
   "source": [
    "round(df[df['ENTERED_CLINIC_TIME'].isna()]['ENTERED_CLINIC_TIME'].shape[0] / df.shape[0] *100)"
   ]
  },
  {
   "cell_type": "code",
   "execution_count": 17,
   "metadata": {},
   "outputs": [
    {
     "data": {
      "image/png": "[encoded data removed]",
      "text/plain": [
       "<Figure size 432x576 with 1 Axes>"
      ]
     },
     "metadata": {},
     "output_type": "display_data"
    }
   ],
   "source": [
    "plt.figure(figsize=(6,8))\n",
    "x = [\n",
    "round(df[df['ENTERED_CLINIC_TIME'].isna()]['ENTERED_CLINIC_TIME'].shape[0] / df.shape[0] *100),\n",
    "round(df[~df['ENTERED_CLINIC_TIME'].isna()]['ENTERED_CLINIC_TIME'].shape[0] / df.shape[0] *100) \n",
    "]\n",
    "\n",
    "plt.pie(\n",
    "    x = x,\n",
    "    autopct='%1.2f%%')\n",
    "plt.title('Patients Entered Clinic ( Percentage ) ')\n",
    "plt.legend(['No Entered Clinic', 'Entered Clinic'], loc=(0.8,0.8));"
   ]
  },
  {
   "cell_type": "markdown",
   "metadata": {},
   "source": [
    "# Compute duration which patient stayed at an emergency clinic"
   ]
  },
  {
   "cell_type": "code",
   "execution_count": 18,
   "metadata": {},
   "outputs": [],
   "source": [
    "clinic_minuse_teriage = df[~df['ENTERED_CLINIC_TIME'].isna()]['ENTERED_CLINIC_TIME'] - df['TRIAGE_DATE'][df[~df['ENTERED_CLINIC_TIME'].isna()].index]"
   ]
  },
  {
   "cell_type": "code",
   "execution_count": 19,
   "metadata": {},
   "outputs": [],
   "source": [
    "clinic_to_triage = clinic_minuse_teriage.drop(clinic_minuse_teriage[clinic_minuse_teriage > '0 days 23:59:59'] .index)"
   ]
  },
  {
   "cell_type": "code",
   "execution_count": 20,
   "metadata": {},
   "outputs": [
    {
     "data": {
      "text/html": [
       "<div>\n",
       "<style scoped>\n",
       "    .dataframe tbody tr th:only-of-type {\n",
       "        vertical-align: middle;\n",
       "    }\n",
       "\n",
       "    .dataframe tbody tr th {\n",
       "        vertical-align: top;\n",
       "    }\n",
       "\n",
       "    .dataframe thead th {\n",
       "        text-align: right;\n",
       "    }\n",
       "</style>\n",
       "<table border=\"1\" class=\"dataframe\">\n",
       "  <thead>\n",
       "    <tr style=\"text-align: right;\">\n",
       "      <th></th>\n",
       "      <th>Duration of Entering Clinic</th>\n",
       "    </tr>\n",
       "  </thead>\n",
       "  <tbody>\n",
       "    <tr>\n",
       "      <th>count</th>\n",
       "      <td>11914</td>\n",
       "    </tr>\n",
       "    <tr>\n",
       "      <th>mean</th>\n",
       "      <td>0 days 00:37:26.348497565</td>\n",
       "    </tr>\n",
       "    <tr>\n",
       "      <th>std</th>\n",
       "      <td>0 days 00:38:04.617027805</td>\n",
       "    </tr>\n",
       "    <tr>\n",
       "      <th>min</th>\n",
       "      <td>0 days 00:00:56</td>\n",
       "    </tr>\n",
       "    <tr>\n",
       "      <th>25%</th>\n",
       "      <td>0 days 00:14:38</td>\n",
       "    </tr>\n",
       "    <tr>\n",
       "      <th>50%</th>\n",
       "      <td>0 days 00:27:37.500000</td>\n",
       "    </tr>\n",
       "    <tr>\n",
       "      <th>75%</th>\n",
       "      <td>0 days 00:48:07.750000</td>\n",
       "    </tr>\n",
       "    <tr>\n",
       "      <th>max</th>\n",
       "      <td>0 days 16:51:34</td>\n",
       "    </tr>\n",
       "  </tbody>\n",
       "</table>\n",
       "</div>"
      ],
      "text/plain": [
       "      Duration of Entering Clinic\n",
       "count                       11914\n",
       "mean    0 days 00:37:26.348497565\n",
       "std     0 days 00:38:04.617027805\n",
       "min               0 days 00:00:56\n",
       "25%               0 days 00:14:38\n",
       "50%        0 days 00:27:37.500000\n",
       "75%        0 days 00:48:07.750000\n",
       "max               0 days 16:51:34"
      ]
     },
     "execution_count": 20,
     "metadata": {},
     "output_type": "execute_result"
    }
   ],
   "source": [
    "pd.DataFrame(clinic_to_triage.describe(), columns=['Duration of Entering Clinic'])"
   ]
  },
  {
   "cell_type": "code",
   "execution_count": 21,
   "metadata": {},
   "outputs": [],
   "source": [
    "df['TRIAGE_TO_CLININ_DURAION'] = clinic_minuse_teriage"
   ]
  },
  {
   "cell_type": "markdown",
   "metadata": {},
   "source": [
    "- Within 10 Minutes"
   ]
  },
  {
   "cell_type": "code",
   "execution_count": 22,
   "metadata": {},
   "outputs": [
    {
     "name": "stdout",
     "output_type": "stream",
     "text": [
      "14%\n"
     ]
    }
   ],
   "source": [
    "within_10_m = round(clinic_minuse_teriage[clinic_minuse_teriage <= '0 days 00:10:00'].shape[0] / clinic_minuse_teriage.shape[0] * 100)\n",
    "print(within_10_m, '%', sep='')"
   ]
  },
  {
   "cell_type": "markdown",
   "metadata": {},
   "source": [
    "- Within 20 Minutes"
   ]
  },
  {
   "cell_type": "code",
   "execution_count": 23,
   "metadata": {},
   "outputs": [
    {
     "name": "stdout",
     "output_type": "stream",
     "text": [
      "37%\n"
     ]
    }
   ],
   "source": [
    "within_20_m = round(clinic_minuse_teriage[clinic_minuse_teriage <= '0 days 00:20:00'].shape[0] / clinic_minuse_teriage.shape[0] * 100)\n",
    "print(within_20_m, '%', sep='')"
   ]
  },
  {
   "cell_type": "markdown",
   "metadata": {},
   "source": [
    "- Within 30 Minutes"
   ]
  },
  {
   "cell_type": "code",
   "execution_count": 24,
   "metadata": {},
   "outputs": [
    {
     "name": "stdout",
     "output_type": "stream",
     "text": [
      "54%\n"
     ]
    }
   ],
   "source": [
    "within_30_m = round(clinic_minuse_teriage[clinic_minuse_teriage <= '0 days 00:30:00'].shape[0] / clinic_minuse_teriage.shape[0] * 100)\n",
    "print(within_30_m, '%', sep='')"
   ]
  },
  {
   "cell_type": "code",
   "execution_count": 25,
   "metadata": {},
   "outputs": [
    {
     "name": "stderr",
     "output_type": "stream",
     "text": [
      "/opt/anaconda3/lib/python3.8/site-packages/seaborn/_decorators.py:36: FutureWarning: Pass the following variables as keyword args: x, y. From version 0.12, the only valid positional argument will be `data`, and passing other arguments without an explicit keyword will result in an error or misinterpretation.\n",
      "  warnings.warn(\n",
      "<ipython-input-25-22c1134743c0>:16: UserWarning: FixedFormatter should only be used together with FixedLocator\n",
      "  splot.set_yticklabels([str(round(s))+'%' for s in splot.get_yticks() ], fontsize = 12)\n"
     ]
    },
    {
     "data": {
      "image/png": "[encoded data removed]",
      "text/plain": [
       "<Figure size 864x576 with 1 Axes>"
      ]
     },
     "metadata": {
      "needs_background": "light"
     },
     "output_type": "display_data"
    }
   ],
   "source": [
    "plt.figure(figsize=(12,8))\n",
    "\n",
    "x = ['10 Minutes', '20 Minutes', '30 Minutes']\n",
    "y = [ within_10_m, within_20_m, within_30_m]\n",
    "\n",
    "splot = sns.barplot(x,y)\n",
    "\n",
    "for p in splot.patches:\n",
    "    splot.annotate(format(p.get_height()), \n",
    "                   (p.get_x() + p.get_width() / 2, p.get_height()), \n",
    "                    ha = 'center', va = 'center', \n",
    "                    xytext = (0, 9), \n",
    "                    textcoords = 'offset points')\n",
    "\n",
    "    \n",
    "splot.set_yticklabels([str(round(s))+'%' for s in splot.get_yticks() ], fontsize = 12)\n",
    "plt.title('Percentage of Duration of Entered Clinic ( Specific Duration ) ', fontsize=16);"
   ]
  },
  {
   "cell_type": "markdown",
   "metadata": {},
   "source": [
    "# Analyzing CONSULTATIONS Feature"
   ]
  },
  {
   "cell_type": "code",
   "execution_count": 26,
   "metadata": {},
   "outputs": [
    {
     "data": {
      "text/plain": [
       "18448"
      ]
     },
     "execution_count": 26,
     "metadata": {},
     "output_type": "execute_result"
    }
   ],
   "source": [
    "# Number of patients who did not receive consultations\n",
    "df['CONSULTATIONS'].isna().sum()"
   ]
  },
  {
   "cell_type": "code",
   "execution_count": 27,
   "metadata": {},
   "outputs": [
    {
     "data": {
      "text/plain": [
       "11508"
      ]
     },
     "execution_count": 27,
     "metadata": {},
     "output_type": "execute_result"
    }
   ],
   "source": [
    "# Number of patients who received consulataions\n",
    "df[~df['CONSULTATIONS'].isna()].shape[0]"
   ]
  },
  {
   "cell_type": "code",
   "execution_count": 28,
   "metadata": {},
   "outputs": [
    {
     "data": {
      "image/png": "[encoded data removed]",
      "text/plain": [
       "<Figure size 432x576 with 1 Axes>"
      ]
     },
     "metadata": {},
     "output_type": "display_data"
    }
   ],
   "source": [
    "plt.figure(figsize=(6,8))\n",
    "x = [\n",
    "df[df['CONSULTATIONS'].isna()].shape[0]/df.shape[0] * 100 ,\n",
    "df[~df['CONSULTATIONS'].isna()].shape[0] / df.shape[0] * 100\n",
    "]\n",
    "\n",
    "plt.pie(\n",
    "    x = x,\n",
    "    autopct='%1.2f%%')\n",
    "plt.title('Patients received counseling ( Pecentage ) ')\n",
    "plt.legend(['No received counseling', 'received counseling'], loc=(0.8,0.8));"
   ]
  },
  {
   "cell_type": "code",
   "execution_count": 29,
   "metadata": {},
   "outputs": [],
   "source": [
    "# crete mask to ignore patients who did not receive consulations\n",
    "mask = df['CONSULTATIONS'].isna()\n",
    "\n",
    "# split each order of consultation by semicolon \";\"\n",
    "consultation_lst = df[~mask]['CONSULTATIONS'].apply(lambda x: x.split(';'))"
   ]
  },
  {
   "cell_type": "code",
   "execution_count": 30,
   "metadata": {},
   "outputs": [],
   "source": [
    "# identify dates times of request and reply\n",
    "consult_lst1 = consultation_lst.apply(lambda x: [ x[i][8:25] +'  '+ x[i][31:] for i in range(len(x)) ])"
   ]
  },
  {
   "cell_type": "code",
   "execution_count": 31,
   "metadata": {},
   "outputs": [],
   "source": [
    "# convert each date time request and reply to date time style \n",
    "# then subtract reply date time from request date time\n",
    "consult_lst2 = consult_lst1.apply(lambda x: [pd.to_datetime(x[i][22:24]+'-'+x[i][19:22]+x[i][25:], errors='coerce') - pd.to_datetime(x[i][3:5]+'-'+x[i][:3]+x[i][6:16], errors='coerce') for i in range(len(x)) ])"
   ]
  },
  {
   "cell_type": "code",
   "execution_count": 32,
   "metadata": {},
   "outputs": [],
   "source": [
    "# convert durations to timedelta \n",
    "consult_lst3 = consult_lst2.apply(lambda x: pd.to_timedelta(x))"
   ]
  },
  {
   "cell_type": "code",
   "execution_count": 33,
   "metadata": {},
   "outputs": [
    {
     "data": {
      "text/plain": [
       "11508"
      ]
     },
     "execution_count": 33,
     "metadata": {},
     "output_type": "execute_result"
    }
   ],
   "source": [
    "# compute total of \n",
    "consult_lst3.apply(lambda x: len(x)).value_counts().values.sum()"
   ]
  },
  {
   "cell_type": "code",
   "execution_count": 34,
   "metadata": {},
   "outputs": [
    {
     "data": {
      "text/html": [
       "<div>\n",
       "<style scoped>\n",
       "    .dataframe tbody tr th:only-of-type {\n",
       "        vertical-align: middle;\n",
       "    }\n",
       "\n",
       "    .dataframe tbody tr th {\n",
       "        vertical-align: top;\n",
       "    }\n",
       "\n",
       "    .dataframe thead th {\n",
       "        text-align: right;\n",
       "    }\n",
       "</style>\n",
       "<table border=\"1\" class=\"dataframe\">\n",
       "  <thead>\n",
       "    <tr style=\"text-align: right;\">\n",
       "      <th></th>\n",
       "      <th>Frequent</th>\n",
       "    </tr>\n",
       "  </thead>\n",
       "  <tbody>\n",
       "    <tr>\n",
       "      <th>1</th>\n",
       "      <td>9809</td>\n",
       "    </tr>\n",
       "    <tr>\n",
       "      <th>2</th>\n",
       "      <td>1242</td>\n",
       "    </tr>\n",
       "    <tr>\n",
       "      <th>3</th>\n",
       "      <td>303</td>\n",
       "    </tr>\n",
       "    <tr>\n",
       "      <th>4</th>\n",
       "      <td>89</td>\n",
       "    </tr>\n",
       "    <tr>\n",
       "      <th>5</th>\n",
       "      <td>35</td>\n",
       "    </tr>\n",
       "    <tr>\n",
       "      <th>6</th>\n",
       "      <td>21</td>\n",
       "    </tr>\n",
       "    <tr>\n",
       "      <th>7</th>\n",
       "      <td>5</td>\n",
       "    </tr>\n",
       "    <tr>\n",
       "      <th>8</th>\n",
       "      <td>3</td>\n",
       "    </tr>\n",
       "    <tr>\n",
       "      <th>10</th>\n",
       "      <td>1</td>\n",
       "    </tr>\n",
       "  </tbody>\n",
       "</table>\n",
       "</div>"
      ],
      "text/plain": [
       "    Frequent\n",
       "1       9809\n",
       "2       1242\n",
       "3        303\n",
       "4         89\n",
       "5         35\n",
       "6         21\n",
       "7          5\n",
       "8          3\n",
       "10         1"
      ]
     },
     "execution_count": 34,
     "metadata": {},
     "output_type": "execute_result"
    }
   ],
   "source": [
    "# compute number of frequent consultations\n",
    "pd.DataFrame(consult_lst3.apply(lambda x: len(x)).value_counts()).rename(columns={'CONSULTATIONS':'Frequent'})"
   ]
  },
  {
   "cell_type": "code",
   "execution_count": 35,
   "metadata": {},
   "outputs": [
    {
     "name": "stderr",
     "output_type": "stream",
     "text": [
      "/opt/anaconda3/lib/python3.8/site-packages/seaborn/_decorators.py:36: FutureWarning: Pass the following variables as keyword args: x, y. From version 0.12, the only valid positional argument will be `data`, and passing other arguments without an explicit keyword will result in an error or misinterpretation.\n",
      "  warnings.warn(\n",
      "<ipython-input-35-a0383b040f04>:15: UserWarning: FixedFormatter should only be used together with FixedLocator\n",
      "  splot.set_yticklabels([str(round(s))+'%' for s in splot.get_yticks() ], fontsize = 12)\n"
     ]
    },
    {
     "data": {
      "image/png": "[encoded data removed]",
      "text/plain": [
       "<Figure size 864x576 with 1 Axes>"
      ]
     },
     "metadata": {
      "needs_background": "light"
     },
     "output_type": "display_data"
    }
   ],
   "source": [
    "plt.figure(figsize=(12,8))\n",
    "\n",
    "x = consult_lst3.apply(lambda x: len(x)).value_counts().keys()\n",
    "y = consult_lst3.apply(lambda x: len(x)).value_counts(normalize=True).values.round(2) * 100\n",
    "\n",
    "splot = sns.barplot(x,y)\n",
    "\n",
    "for p in splot.patches:\n",
    "    splot.annotate(format(p.get_height()), \n",
    "                   (p.get_x() + p.get_width() / 2, p.get_height()), \n",
    "                    ha = 'center', va = 'center', \n",
    "                    xytext = (0, 9), \n",
    "                    textcoords = 'offset points')\n",
    "    \n",
    "splot.set_yticklabels([str(round(s))+'%' for s in splot.get_yticks() ], fontsize = 12)\n",
    "plt.title('Percentage of Consultation Number', fontsize=16);"
   ]
  },
  {
   "cell_type": "code",
   "execution_count": 36,
   "metadata": {},
   "outputs": [
    {
     "data": {
      "text/plain": [
       "47    90.0\n",
       "31    10.0\n",
       "Name: CONSULTATIONS, dtype: float64"
      ]
     },
     "execution_count": 36,
     "metadata": {},
     "output_type": "execute_result"
    }
   ],
   "source": [
    "# find the percentage of consulations wiht reply and without reply\n",
    "# length of text 47 refers to the order of consulation with reply\n",
    "# lenght of text 31 refers to the order of conulation without reply\n",
    "round(consultation_lst.apply(lambda x: [len(i) for i in x]).apply(lambda x: min(x)).value_counts(normalize=True)* 100)"
   ]
  },
  {
   "cell_type": "code",
   "execution_count": 37,
   "metadata": {},
   "outputs": [
    {
     "data": {
      "text/plain": [
       "31       31\n",
       "32       31\n",
       "39       31\n",
       "53       31\n",
       "56       31\n",
       "         ..\n",
       "29861    31\n",
       "29866    31\n",
       "29878    31\n",
       "29885    31\n",
       "29889    31\n",
       "Name: CONSULTATIONS, Length: 1172, dtype: int64"
      ]
     },
     "execution_count": 37,
     "metadata": {},
     "output_type": "execute_result"
    }
   ],
   "source": [
    "# let's take a look to the indexes of consultations without reply date time\n",
    "consultation_lst.apply(lambda x: [len(i) for i in x]).apply(lambda x: min(x))[consultation_lst.apply(lambda x: [len(i) for i in x]).apply(lambda x: min(x)) == 31]"
   ]
  },
  {
   "cell_type": "code",
   "execution_count": 38,
   "metadata": {},
   "outputs": [
    {
     "data": {
      "text/plain": [
       "'Request:01-01-2021 21:27 Reply:01-01-2021 22:12;Request:01-01-2021 21:28 Reply:'"
      ]
     },
     "execution_count": 38,
     "metadata": {},
     "output_type": "execute_result"
    }
   ],
   "source": [
    "# let us look at the index 31 which without reply date time in the second order.\n",
    "df.loc[31, 'CONSULTATIONS']"
   ]
  },
  {
   "cell_type": "code",
   "execution_count": 39,
   "metadata": {},
   "outputs": [],
   "source": [
    "# comput total of consulations with or without reply\n",
    "total_consults = [item for lst in consult_lst3 for item in lst]"
   ]
  },
  {
   "cell_type": "code",
   "execution_count": 40,
   "metadata": {},
   "outputs": [
    {
     "name": "stdout",
     "output_type": "stream",
     "text": [
      "Total of Consultations: 13928\n"
     ]
    }
   ],
   "source": [
    "# number of all consultations\n",
    "print(f'Total of Consultations: {len(total_consults)}')"
   ]
  },
  {
   "cell_type": "code",
   "execution_count": 41,
   "metadata": {},
   "outputs": [
    {
     "data": {
      "text/plain": [
       "1208"
      ]
     },
     "execution_count": 41,
     "metadata": {},
     "output_type": "execute_result"
    }
   ],
   "source": [
    "# number of consultations without Reply Date\n",
    "pd.Series(total_consults).isna().sum()"
   ]
  },
  {
   "cell_type": "code",
   "execution_count": 42,
   "metadata": {},
   "outputs": [
    {
     "data": {
      "text/plain": [
       "12720"
      ]
     },
     "execution_count": 42,
     "metadata": {},
     "output_type": "execute_result"
    }
   ],
   "source": [
    "# number of consultation with Replay Date\n",
    "mask = pd.Series(total_consults).isna()\n",
    "pd.Series(total_consults)[~mask].shape[0]"
   ]
  },
  {
   "cell_type": "code",
   "execution_count": 43,
   "metadata": {},
   "outputs": [
    {
     "data": {
      "image/png": "[encoded data removed]",
      "text/plain": [
       "<Figure size 432x576 with 1 Axes>"
      ]
     },
     "metadata": {},
     "output_type": "display_data"
    }
   ],
   "source": [
    "plt.figure(figsize=(6,8))\n",
    "x = [\n",
    "pd.Series(total_consults)[~pd.Series(total_consults).isna()].shape[0]/pd.Series(total_consults).shape[0] * 100 ,\n",
    "pd.Series(total_consults)[pd.Series(total_consults).isna()].shape[0]/pd.Series(total_consults).shape[0] * 100 ,\n",
    "]\n",
    "\n",
    "plt.pie(\n",
    "    x = x,\n",
    "    autopct='%1.2f%%')\n",
    "plt.title('Consultations with/ without Reply ( Pecentage ) ')\n",
    "plt.legend(['Consultations with Reply', 'Consultations without Reply'], loc=(0.8,0.8));"
   ]
  },
  {
   "cell_type": "code",
   "execution_count": 44,
   "metadata": {},
   "outputs": [],
   "source": [
    "df['CONSULTATIONS_DURATION'] = None"
   ]
  },
  {
   "cell_type": "code",
   "execution_count": 45,
   "metadata": {},
   "outputs": [
    {
     "name": "stderr",
     "output_type": "stream",
     "text": [
      "<ipython-input-45-a88d969be5fe>:2: SettingWithCopyWarning: \n",
      "A value is trying to be set on a copy of a slice from a DataFrame\n",
      "\n",
      "See the caveats in the documentation: https://pandas.pydata.org/pandas-docs/stable/user_guide/indexing.html#returning-a-view-versus-a-copy\n",
      "  df['CONSULTATIONS_DURATION'][i] = consult_lst3[i]\n"
     ]
    }
   ],
   "source": [
    "for i in consult_lst3.index:\n",
    "    df['CONSULTATIONS_DURATION'][i] = consult_lst3[i]"
   ]
  },
  {
   "cell_type": "code",
   "execution_count": 46,
   "metadata": {},
   "outputs": [
    {
     "data": {
      "text/html": [
       "<div>\n",
       "<style scoped>\n",
       "    .dataframe tbody tr th:only-of-type {\n",
       "        vertical-align: middle;\n",
       "    }\n",
       "\n",
       "    .dataframe tbody tr th {\n",
       "        vertical-align: top;\n",
       "    }\n",
       "\n",
       "    .dataframe thead th {\n",
       "        text-align: right;\n",
       "    }\n",
       "</style>\n",
       "<table border=\"1\" class=\"dataframe\">\n",
       "  <thead>\n",
       "    <tr style=\"text-align: right;\">\n",
       "      <th></th>\n",
       "      <th>All Consultations</th>\n",
       "    </tr>\n",
       "  </thead>\n",
       "  <tbody>\n",
       "    <tr>\n",
       "      <th>count</th>\n",
       "      <td>12720</td>\n",
       "    </tr>\n",
       "    <tr>\n",
       "      <th>mean</th>\n",
       "      <td>0 days 01:57:56.316037735</td>\n",
       "    </tr>\n",
       "    <tr>\n",
       "      <th>std</th>\n",
       "      <td>0 days 08:25:37.195638597</td>\n",
       "    </tr>\n",
       "    <tr>\n",
       "      <th>min</th>\n",
       "      <td>0 days 00:00:00</td>\n",
       "    </tr>\n",
       "    <tr>\n",
       "      <th>25%</th>\n",
       "      <td>0 days 00:32:00</td>\n",
       "    </tr>\n",
       "    <tr>\n",
       "      <th>50%</th>\n",
       "      <td>0 days 01:02:00</td>\n",
       "    </tr>\n",
       "    <tr>\n",
       "      <th>75%</th>\n",
       "      <td>0 days 01:53:00</td>\n",
       "    </tr>\n",
       "    <tr>\n",
       "      <th>max</th>\n",
       "      <td>15 days 16:01:00</td>\n",
       "    </tr>\n",
       "  </tbody>\n",
       "</table>\n",
       "</div>"
      ],
      "text/plain": [
       "               All Consultations\n",
       "count                      12720\n",
       "mean   0 days 01:57:56.316037735\n",
       "std    0 days 08:25:37.195638597\n",
       "min              0 days 00:00:00\n",
       "25%              0 days 00:32:00\n",
       "50%              0 days 01:02:00\n",
       "75%              0 days 01:53:00\n",
       "max             15 days 16:01:00"
      ]
     },
     "execution_count": 46,
     "metadata": {},
     "output_type": "execute_result"
    }
   ],
   "source": [
    "pd.DataFrame(pd.Series(total_consults).describe(), columns=['All Consultations'])"
   ]
  },
  {
   "cell_type": "code",
   "execution_count": 47,
   "metadata": {},
   "outputs": [
    {
     "data": {
      "text/plain": [
       "18   15 days 16:01:00\n",
       "dtype: timedelta64[ns]"
      ]
     },
     "execution_count": 47,
     "metadata": {},
     "output_type": "execute_result"
    }
   ],
   "source": [
    "# display the index of patient who received higher duration of consultations\n",
    "pd.Series(total_consults)[pd.Series(total_consults) == '15 days 16:01:00']"
   ]
  },
  {
   "cell_type": "code",
   "execution_count": 48,
   "metadata": {
    "scrolled": true
   },
   "outputs": [
    {
     "data": {
      "text/plain": [
       "27   15 days 16:01:00\n",
       "Name: CONSULTATIONS, dtype: timedelta64[ns]"
      ]
     },
     "execution_count": 48,
     "metadata": {},
     "output_type": "execute_result"
    }
   ],
   "source": [
    "# display the index of patient who received higher duration of consultations in the original data\n",
    "consult_lst3.apply(lambda x: x.max())[consult_lst3.apply(lambda x: x.max()) == consult_lst3.apply(lambda x: x.max()).max()]"
   ]
  },
  {
   "cell_type": "code",
   "execution_count": 49,
   "metadata": {},
   "outputs": [
    {
     "data": {
      "text/plain": [
       "TimedeltaIndex(['15 days 16:01:00', '0 days 01:13:00'], dtype='timedelta64[ns]', freq=None)"
      ]
     },
     "execution_count": 49,
     "metadata": {},
     "output_type": "execute_result"
    }
   ],
   "source": [
    "# display the index of patient who received higher duration of consultations in the original data after duration was computed\n",
    "df.loc[27,'CONSULTATIONS_DURATION']"
   ]
  },
  {
   "cell_type": "code",
   "execution_count": 50,
   "metadata": {},
   "outputs": [
    {
     "data": {
      "text/plain": [
       "'Request:01-01-2021 19:44 Reply:17-01-2021 11:45;Request:01-01-2021 20:45 Reply:01-01-2021 21:58'"
      ]
     },
     "execution_count": 50,
     "metadata": {},
     "output_type": "execute_result"
    }
   ],
   "source": [
    "# display the index of patient who received higher duration of consultations in the original duration\n",
    "df.loc[27,'CONSULTATIONS']"
   ]
  },
  {
   "cell_type": "markdown",
   "metadata": {},
   "source": [
    "# Analyzing LAB_TEST Feature"
   ]
  },
  {
   "cell_type": "code",
   "execution_count": 51,
   "metadata": {},
   "outputs": [
    {
     "data": {
      "text/plain": [
       "18162"
      ]
     },
     "execution_count": 51,
     "metadata": {},
     "output_type": "execute_result"
    }
   ],
   "source": [
    "df['LAB_TEST'].isna().sum()"
   ]
  },
  {
   "cell_type": "code",
   "execution_count": 52,
   "metadata": {},
   "outputs": [
    {
     "data": {
      "text/plain": [
       "11794"
      ]
     },
     "execution_count": 52,
     "metadata": {},
     "output_type": "execute_result"
    }
   ],
   "source": [
    "df[~df['LAB_TEST'].isna()].shape[0]"
   ]
  },
  {
   "cell_type": "code",
   "execution_count": 53,
   "metadata": {},
   "outputs": [
    {
     "data": {
      "image/png": "[encoded data removed]",
      "text/plain": [
       "<Figure size 432x576 with 1 Axes>"
      ]
     },
     "metadata": {},
     "output_type": "display_data"
    }
   ],
   "source": [
    "plt.figure(figsize=(6,8))\n",
    "x = [\n",
    "df[df['LAB_TEST'].isna()].shape[0]/df.shape[0] * 100 ,\n",
    "df[~df['LAB_TEST'].isna()].shape[0] / df.shape[0] * 100\n",
    "]\n",
    "\n",
    "plt.pie(\n",
    "    x = x,\n",
    "    autopct='%1.2f%%')\n",
    "plt.title('Patients Did Lab Test ( Pecentage ) ')\n",
    "plt.legend(['No Did Lab Test', 'Did counseling'], loc=(0.8,0.8));"
   ]
  },
  {
   "cell_type": "code",
   "execution_count": 54,
   "metadata": {},
   "outputs": [
    {
     "data": {
      "text/plain": [
       "'12534510 START: ,02-01-2021 02:10, END: ,02-01-2021 03:22,;12534513 START: ,02-01-2021 02:10, END: ,02-01-2021 03:34,;12534514 START: ,02-01-2021 02:10, END: ,02-01-2021 03:42,;12534512 START: ,02-01-2021 02:10, END: ,02-01-2021 03:33,'"
      ]
     },
     "execution_count": 54,
     "metadata": {},
     "output_type": "execute_result"
    }
   ],
   "source": [
    "df['LAB_TEST'][6]"
   ]
  },
  {
   "cell_type": "code",
   "execution_count": 55,
   "metadata": {},
   "outputs": [],
   "source": [
    "mask = df['LAB_TEST'].isna()\n",
    "lab_test_lst = df[~mask]['LAB_TEST'].apply(lambda x: x.split(';'))"
   ]
  },
  {
   "cell_type": "code",
   "execution_count": 56,
   "metadata": {},
   "outputs": [],
   "source": [
    "lst1 = lab_test_lst.apply(lambda x: ' '.join(x).split('START: ,')[1:])"
   ]
  },
  {
   "cell_type": "code",
   "execution_count": 57,
   "metadata": {},
   "outputs": [],
   "source": [
    "lst2 = lst1.apply(lambda x: [pd.to_datetime(x[i][24:40], dayfirst=True) - pd.to_datetime(x[i][:16], dayfirst=True) for i in range(len(x))])"
   ]
  },
  {
   "cell_type": "code",
   "execution_count": 58,
   "metadata": {
    "scrolled": false
   },
   "outputs": [],
   "source": [
    "lst3 = lst2.apply(lambda x: pd.to_timedelta(x))"
   ]
  },
  {
   "cell_type": "code",
   "execution_count": 59,
   "metadata": {},
   "outputs": [
    {
     "data": {
      "text/plain": [
       "4507   81 days 13:59:00\n",
       "Name: LAB_TEST, dtype: timedelta64[ns]"
      ]
     },
     "execution_count": 59,
     "metadata": {},
     "output_type": "execute_result"
    }
   ],
   "source": [
    "lst3.apply(lambda x: x.max())[ lst3.apply(lambda x: x.max()) == lst3.apply(lambda x: x.max()).max() ]"
   ]
  },
  {
   "cell_type": "code",
   "execution_count": 60,
   "metadata": {},
   "outputs": [
    {
     "data": {
      "text/plain": [
       "TimedeltaIndex(['81 days 13:59:00'], dtype='timedelta64[ns]', freq=None)"
      ]
     },
     "execution_count": 60,
     "metadata": {},
     "output_type": "execute_result"
    }
   ],
   "source": [
    "lst3[4507]"
   ]
  },
  {
   "cell_type": "code",
   "execution_count": 61,
   "metadata": {},
   "outputs": [
    {
     "data": {
      "text/plain": [
       "'12565239 START: ,14-01-2021 10:47, END: ,06-04-2021 00:46,'"
      ]
     },
     "execution_count": 61,
     "metadata": {},
     "output_type": "execute_result"
    }
   ],
   "source": [
    "df['LAB_TEST'][4507]"
   ]
  },
  {
   "cell_type": "code",
   "execution_count": 62,
   "metadata": {},
   "outputs": [
    {
     "data": {
      "text/html": [
       "<div>\n",
       "<style scoped>\n",
       "    .dataframe tbody tr th:only-of-type {\n",
       "        vertical-align: middle;\n",
       "    }\n",
       "\n",
       "    .dataframe tbody tr th {\n",
       "        vertical-align: top;\n",
       "    }\n",
       "\n",
       "    .dataframe thead th {\n",
       "        text-align: right;\n",
       "    }\n",
       "</style>\n",
       "<table border=\"1\" class=\"dataframe\">\n",
       "  <thead>\n",
       "    <tr style=\"text-align: right;\">\n",
       "      <th>No Lab_TESTS</th>\n",
       "      <th>3</th>\n",
       "      <th>4</th>\n",
       "      <th>2</th>\n",
       "      <th>1</th>\n",
       "      <th>5</th>\n",
       "      <th>6</th>\n",
       "      <th>7</th>\n",
       "      <th>11</th>\n",
       "      <th>8</th>\n",
       "      <th>16</th>\n",
       "      <th>...</th>\n",
       "      <th>20</th>\n",
       "      <th>13</th>\n",
       "      <th>21</th>\n",
       "      <th>45</th>\n",
       "      <th>22</th>\n",
       "      <th>30</th>\n",
       "      <th>46</th>\n",
       "      <th>54</th>\n",
       "      <th>62</th>\n",
       "      <th>67</th>\n",
       "    </tr>\n",
       "  </thead>\n",
       "  <tbody>\n",
       "    <tr>\n",
       "      <th>Frequent</th>\n",
       "      <td>7211</td>\n",
       "      <td>1840</td>\n",
       "      <td>1526</td>\n",
       "      <td>835</td>\n",
       "      <td>128</td>\n",
       "      <td>72</td>\n",
       "      <td>44</td>\n",
       "      <td>30</td>\n",
       "      <td>26</td>\n",
       "      <td>10</td>\n",
       "      <td>...</td>\n",
       "      <td>1</td>\n",
       "      <td>1</td>\n",
       "      <td>1</td>\n",
       "      <td>1</td>\n",
       "      <td>1</td>\n",
       "      <td>1</td>\n",
       "      <td>1</td>\n",
       "      <td>1</td>\n",
       "      <td>1</td>\n",
       "      <td>1</td>\n",
       "    </tr>\n",
       "  </tbody>\n",
       "</table>\n",
       "<p>1 rows × 43 columns</p>\n",
       "</div>"
      ],
      "text/plain": [
       "No Lab_TESTS    3     4     2    1    5   6   7   11  8   16  ...  20  13  21  \\\n",
       "Frequent      7211  1840  1526  835  128  72  44  30  26  10  ...   1   1   1   \n",
       "\n",
       "No Lab_TESTS  45  22  30  46  54  62  67  \n",
       "Frequent       1   1   1   1   1   1   1  \n",
       "\n",
       "[1 rows x 43 columns]"
      ]
     },
     "execution_count": 62,
     "metadata": {},
     "output_type": "execute_result"
    }
   ],
   "source": [
    "lab_test_dist = pd.DataFrame(lab_test_lst.apply(lambda x: len(x)).value_counts())\n",
    "lab_test_dist.rename(columns={'LAB_TEST': 'Frequent'}, inplace=True)\n",
    "lab_test_dist.index.name = 'No Lab_TESTS'\n",
    "lab_test_dist.transpose()"
   ]
  },
  {
   "cell_type": "code",
   "execution_count": 63,
   "metadata": {},
   "outputs": [
    {
     "data": {
      "text/plain": [
       "3     7211\n",
       "4     1840\n",
       "2     1526\n",
       "1      835\n",
       "5      128\n",
       "6       72\n",
       "7       44\n",
       "11      30\n",
       "8       26\n",
       "16      10\n",
       "9       10\n",
       "12       9\n",
       "15       6\n",
       "10       5\n",
       "18       4\n",
       "29       3\n",
       "14       3\n",
       "48       3\n",
       "28       2\n",
       "17       2\n",
       "37       2\n",
       "26       2\n",
       "25       1\n",
       "57       1\n",
       "34       1\n",
       "40       1\n",
       "24       1\n",
       "47       1\n",
       "50       1\n",
       "58       1\n",
       "19       1\n",
       "27       1\n",
       "23       1\n",
       "20       1\n",
       "13       1\n",
       "21       1\n",
       "45       1\n",
       "22       1\n",
       "30       1\n",
       "46       1\n",
       "54       1\n",
       "62       1\n",
       "67       1\n",
       "Name: LAB_TEST, dtype: int64"
      ]
     },
     "execution_count": 63,
     "metadata": {},
     "output_type": "execute_result"
    }
   ],
   "source": [
    "lab_test_lst.apply(lambda x: len(x)).value_counts()"
   ]
  },
  {
   "cell_type": "code",
   "execution_count": 64,
   "metadata": {},
   "outputs": [
    {
     "name": "stderr",
     "output_type": "stream",
     "text": [
      "/opt/anaconda3/lib/python3.8/site-packages/seaborn/_decorators.py:36: FutureWarning: Pass the following variables as keyword args: x, y. From version 0.12, the only valid positional argument will be `data`, and passing other arguments without an explicit keyword will result in an error or misinterpretation.\n",
      "  warnings.warn(\n",
      "<ipython-input-64-6d6ceb4f86cf>:16: UserWarning: FixedFormatter should only be used together with FixedLocator\n",
      "  splot.set_yticklabels([str(round(s))+'%' for s in splot.get_yticks() ], fontsize = 12)\n"
     ]
    },
    {
     "data": {
      "image/png": "[encoded data removed]",
      "text/plain": [
       "<Figure size 864x576 with 1 Axes>"
      ]
     },
     "metadata": {
      "needs_background": "light"
     },
     "output_type": "display_data"
    }
   ],
   "source": [
    "plt.figure(figsize=(12,8))\n",
    "\n",
    "x = [ str(n) for n in lab_test_lst.apply(lambda x: len(x)).value_counts().keys()][:10]\n",
    "y = lab_test_lst.apply(lambda x: len(x)).value_counts(normalize=True).values.round(2).tolist()[:10] \n",
    "y = [round(100 * n, 2) for n in y ]\n",
    "\n",
    "splot = sns.barplot(x, y)\n",
    "\n",
    "for p in splot.patches:\n",
    "    splot.annotate(format(p.get_height()), \n",
    "                   (p.get_x() + p.get_width() / 2, p.get_height()), \n",
    "                    ha = 'center', va = 'center', \n",
    "                    xytext = (0, 9), \n",
    "                    textcoords = 'offset points')\n",
    "    \n",
    "splot.set_yticklabels([str(round(s))+'%' for s in splot.get_yticks() ], fontsize = 12)\n",
    "plt.title('Percentage of Lab Tests Number', fontsize=16);"
   ]
  },
  {
   "cell_type": "code",
   "execution_count": 65,
   "metadata": {},
   "outputs": [],
   "source": [
    "df['LAB_TEST_DURATION'] = None"
   ]
  },
  {
   "cell_type": "code",
   "execution_count": 66,
   "metadata": {},
   "outputs": [
    {
     "name": "stderr",
     "output_type": "stream",
     "text": [
      "<ipython-input-66-adc6c2e1045b>:2: SettingWithCopyWarning: \n",
      "A value is trying to be set on a copy of a slice from a DataFrame\n",
      "\n",
      "See the caveats in the documentation: https://pandas.pydata.org/pandas-docs/stable/user_guide/indexing.html#returning-a-view-versus-a-copy\n",
      "  df['LAB_TEST_DURATION'][i] = lst3[i]\n"
     ]
    }
   ],
   "source": [
    "for i in lst3.index:\n",
    "    df['LAB_TEST_DURATION'][i] = lst3[i]"
   ]
  },
  {
   "cell_type": "code",
   "execution_count": 67,
   "metadata": {},
   "outputs": [],
   "source": [
    "total_lab_test = [item for lst in lst3 for item in lst]"
   ]
  },
  {
   "cell_type": "code",
   "execution_count": 68,
   "metadata": {},
   "outputs": [
    {
     "name": "stdout",
     "output_type": "stream",
     "text": [
      "Total Lab Tests: 36640\n"
     ]
    }
   ],
   "source": [
    "print(f'Total Lab Tests: {len(total_lab_test)}')"
   ]
  },
  {
   "cell_type": "code",
   "execution_count": 69,
   "metadata": {},
   "outputs": [
    {
     "data": {
      "text/html": [
       "<div>\n",
       "<style scoped>\n",
       "    .dataframe tbody tr th:only-of-type {\n",
       "        vertical-align: middle;\n",
       "    }\n",
       "\n",
       "    .dataframe tbody tr th {\n",
       "        vertical-align: top;\n",
       "    }\n",
       "\n",
       "    .dataframe thead th {\n",
       "        text-align: right;\n",
       "    }\n",
       "</style>\n",
       "<table border=\"1\" class=\"dataframe\">\n",
       "  <thead>\n",
       "    <tr style=\"text-align: right;\">\n",
       "      <th></th>\n",
       "      <th>All Lab Tests</th>\n",
       "    </tr>\n",
       "  </thead>\n",
       "  <tbody>\n",
       "    <tr>\n",
       "      <th>count</th>\n",
       "      <td>36640</td>\n",
       "    </tr>\n",
       "    <tr>\n",
       "      <th>mean</th>\n",
       "      <td>0 days 02:41:05.340065502</td>\n",
       "    </tr>\n",
       "    <tr>\n",
       "      <th>std</th>\n",
       "      <td>0 days 17:15:58.522196694</td>\n",
       "    </tr>\n",
       "    <tr>\n",
       "      <th>min</th>\n",
       "      <td>0 days 00:00:00</td>\n",
       "    </tr>\n",
       "    <tr>\n",
       "      <th>25%</th>\n",
       "      <td>0 days 00:41:00</td>\n",
       "    </tr>\n",
       "    <tr>\n",
       "      <th>50%</th>\n",
       "      <td>0 days 00:59:00</td>\n",
       "    </tr>\n",
       "    <tr>\n",
       "      <th>75%</th>\n",
       "      <td>0 days 01:24:00</td>\n",
       "    </tr>\n",
       "    <tr>\n",
       "      <th>max</th>\n",
       "      <td>81 days 13:59:00</td>\n",
       "    </tr>\n",
       "  </tbody>\n",
       "</table>\n",
       "</div>"
      ],
      "text/plain": [
       "                   All Lab Tests\n",
       "count                      36640\n",
       "mean   0 days 02:41:05.340065502\n",
       "std    0 days 17:15:58.522196694\n",
       "min              0 days 00:00:00\n",
       "25%              0 days 00:41:00\n",
       "50%              0 days 00:59:00\n",
       "75%              0 days 01:24:00\n",
       "max             81 days 13:59:00"
      ]
     },
     "execution_count": 69,
     "metadata": {},
     "output_type": "execute_result"
    }
   ],
   "source": [
    "pd.DataFrame(pd.Series(total_lab_test).describe(), columns=['All Lab Tests'])"
   ]
  },
  {
   "cell_type": "code",
   "execution_count": 70,
   "metadata": {},
   "outputs": [],
   "source": [
    "lab_test_without_end = []\n",
    "lab_test_with_end = []\n",
    "lab_test_without_end_ind = []\n",
    "lab_test_with_end_ind = []\n",
    "\n",
    "for i in lab_test_lst.index:\n",
    "    if len(lab_test_lst[i])>1:\n",
    "        for n in lab_test_lst[i]:\n",
    "            if len(n) <=50:\n",
    "                lab_test_without_end.append(i)\n",
    "                lab_test_without_end_ind.append(i)\n",
    "            else:\n",
    "                lab_test_with_end.append(i)\n",
    "                lab_test_with_end_ind.append(i)\n",
    "    else:\n",
    "        if len(n) <=50:\n",
    "            lab_test_without_end.append(i)\n",
    "            lab_test_without_end_ind.append(i)\n",
    "        else:\n",
    "            lab_test_with_end.append(i)\n",
    "            lab_test_with_end_ind.append(i)"
   ]
  },
  {
   "cell_type": "code",
   "execution_count": 71,
   "metadata": {},
   "outputs": [
    {
     "data": {
      "text/plain": [
       "36641"
      ]
     },
     "execution_count": 71,
     "metadata": {},
     "output_type": "execute_result"
    }
   ],
   "source": [
    "len(lab_test_with_end)"
   ]
  },
  {
   "cell_type": "code",
   "execution_count": 72,
   "metadata": {},
   "outputs": [
    {
     "data": {
      "text/plain": [
       "0"
      ]
     },
     "execution_count": 72,
     "metadata": {},
     "output_type": "execute_result"
    }
   ],
   "source": [
    "len(lab_test_without_end)"
   ]
  },
  {
   "cell_type": "code",
   "execution_count": 73,
   "metadata": {},
   "outputs": [],
   "source": [
    "length_n = []\n",
    "for i in lab_test_lst.index:\n",
    "    if len(lab_test_lst[i]) >1:\n",
    "        for n in lab_test_lst[i]:\n",
    "            length_n.append(len(n))\n",
    "    else:\n",
    "        length_n.append(len(n))"
   ]
  },
  {
   "cell_type": "code",
   "execution_count": 74,
   "metadata": {},
   "outputs": [
    {
     "data": {
      "text/plain": [
       "count    36641.0\n",
       "mean        58.0\n",
       "std          0.0\n",
       "min         58.0\n",
       "25%         58.0\n",
       "50%         58.0\n",
       "75%         58.0\n",
       "max         58.0\n",
       "dtype: float64"
      ]
     },
     "execution_count": 74,
     "metadata": {},
     "output_type": "execute_result"
    }
   ],
   "source": [
    "pd.Series(length_n).describe()"
   ]
  },
  {
   "cell_type": "markdown",
   "metadata": {},
   "source": [
    "# Analyzing RADIOLOGY Feature"
   ]
  },
  {
   "cell_type": "code",
   "execution_count": 75,
   "metadata": {},
   "outputs": [
    {
     "data": {
      "text/plain": [
       "16327"
      ]
     },
     "execution_count": 75,
     "metadata": {},
     "output_type": "execute_result"
    }
   ],
   "source": [
    "df['RADIOLOGY'].isna().sum()"
   ]
  },
  {
   "cell_type": "code",
   "execution_count": 76,
   "metadata": {},
   "outputs": [
    {
     "data": {
      "text/plain": [
       "13629"
      ]
     },
     "execution_count": 76,
     "metadata": {},
     "output_type": "execute_result"
    }
   ],
   "source": [
    "df[~df['RADIOLOGY'].isna()]['RADIOLOGY'].shape[0]"
   ]
  },
  {
   "cell_type": "code",
   "execution_count": 77,
   "metadata": {},
   "outputs": [
    {
     "data": {
      "image/png": "[encoded data removed]",
      "text/plain": [
       "<Figure size 432x576 with 1 Axes>"
      ]
     },
     "metadata": {},
     "output_type": "display_data"
    }
   ],
   "source": [
    "plt.figure(figsize=(6,8))\n",
    "x = [\n",
    "df[df['RADIOLOGY'].isna()].shape[0]/df.shape[0] * 100 ,\n",
    "df[~df['RADIOLOGY'].isna()].shape[0] / df.shape[0] * 100\n",
    "]\n",
    "\n",
    "plt.pie(\n",
    "    x = x,\n",
    "    autopct='%1.2f%%')\n",
    "plt.title('Patients Did Radiology ( Pecentage ) ')\n",
    "plt.legend(['No Did Radiology', 'Did Radiology'], loc=(0.8,0.8));"
   ]
  },
  {
   "cell_type": "code",
   "execution_count": 78,
   "metadata": {},
   "outputs": [],
   "source": [
    "mask = df['RADIOLOGY'].isna()\n",
    "radiology_lst = df[~mask]['RADIOLOGY'].apply(lambda x: x.split(';'))"
   ]
  },
  {
   "cell_type": "code",
   "execution_count": 79,
   "metadata": {},
   "outputs": [],
   "source": [
    "lst1 = radiology_lst.apply(lambda x: ' '.join(x).split('START: ,')[1:])"
   ]
  },
  {
   "cell_type": "code",
   "execution_count": 80,
   "metadata": {},
   "outputs": [],
   "source": [
    "lst2 = lst1.apply(lambda x: [pd.to_datetime(x[i][24:40], dayfirst=True) - pd.to_datetime(x[i][:16], dayfirst=True) for i in range(len(x))])"
   ]
  },
  {
   "cell_type": "code",
   "execution_count": 81,
   "metadata": {
    "scrolled": false
   },
   "outputs": [],
   "source": [
    "lst3 = lst2.apply(lambda x: pd.to_timedelta(x))"
   ]
  },
  {
   "cell_type": "code",
   "execution_count": 82,
   "metadata": {},
   "outputs": [
    {
     "data": {
      "text/plain": [
       "460   88 days 11:25:00\n",
       "Name: RADIOLOGY, dtype: timedelta64[ns]"
      ]
     },
     "execution_count": 82,
     "metadata": {},
     "output_type": "execute_result"
    }
   ],
   "source": [
    "lst3.apply(lambda x: x.max())[ lst3.apply(lambda x: x.max()) == lst3.apply(lambda x: x.max()).max() ]"
   ]
  },
  {
   "cell_type": "code",
   "execution_count": 83,
   "metadata": {},
   "outputs": [
    {
     "data": {
      "text/html": [
       "<div>\n",
       "<style scoped>\n",
       "    .dataframe tbody tr th:only-of-type {\n",
       "        vertical-align: middle;\n",
       "    }\n",
       "\n",
       "    .dataframe tbody tr th {\n",
       "        vertical-align: top;\n",
       "    }\n",
       "\n",
       "    .dataframe thead th {\n",
       "        text-align: right;\n",
       "    }\n",
       "</style>\n",
       "<table border=\"1\" class=\"dataframe\">\n",
       "  <thead>\n",
       "    <tr style=\"text-align: right;\">\n",
       "      <th></th>\n",
       "      <th>RADIOLOGY</th>\n",
       "    </tr>\n",
       "    <tr>\n",
       "      <th>No of Radiology</th>\n",
       "      <th></th>\n",
       "    </tr>\n",
       "  </thead>\n",
       "  <tbody>\n",
       "    <tr>\n",
       "      <th>1</th>\n",
       "      <td>7935</td>\n",
       "    </tr>\n",
       "    <tr>\n",
       "      <th>2</th>\n",
       "      <td>3644</td>\n",
       "    </tr>\n",
       "    <tr>\n",
       "      <th>3</th>\n",
       "      <td>1200</td>\n",
       "    </tr>\n",
       "    <tr>\n",
       "      <th>4</th>\n",
       "      <td>415</td>\n",
       "    </tr>\n",
       "    <tr>\n",
       "      <th>5</th>\n",
       "      <td>206</td>\n",
       "    </tr>\n",
       "    <tr>\n",
       "      <th>6</th>\n",
       "      <td>95</td>\n",
       "    </tr>\n",
       "    <tr>\n",
       "      <th>7</th>\n",
       "      <td>52</td>\n",
       "    </tr>\n",
       "    <tr>\n",
       "      <th>8</th>\n",
       "      <td>23</td>\n",
       "    </tr>\n",
       "    <tr>\n",
       "      <th>10</th>\n",
       "      <td>19</td>\n",
       "    </tr>\n",
       "    <tr>\n",
       "      <th>9</th>\n",
       "      <td>12</td>\n",
       "    </tr>\n",
       "    <tr>\n",
       "      <th>11</th>\n",
       "      <td>9</td>\n",
       "    </tr>\n",
       "    <tr>\n",
       "      <th>12</th>\n",
       "      <td>8</td>\n",
       "    </tr>\n",
       "    <tr>\n",
       "      <th>13</th>\n",
       "      <td>3</td>\n",
       "    </tr>\n",
       "    <tr>\n",
       "      <th>15</th>\n",
       "      <td>3</td>\n",
       "    </tr>\n",
       "    <tr>\n",
       "      <th>14</th>\n",
       "      <td>2</td>\n",
       "    </tr>\n",
       "    <tr>\n",
       "      <th>17</th>\n",
       "      <td>1</td>\n",
       "    </tr>\n",
       "    <tr>\n",
       "      <th>24</th>\n",
       "      <td>1</td>\n",
       "    </tr>\n",
       "    <tr>\n",
       "      <th>16</th>\n",
       "      <td>1</td>\n",
       "    </tr>\n",
       "  </tbody>\n",
       "</table>\n",
       "</div>"
      ],
      "text/plain": [
       "                 RADIOLOGY\n",
       "No of Radiology           \n",
       "1                     7935\n",
       "2                     3644\n",
       "3                     1200\n",
       "4                      415\n",
       "5                      206\n",
       "6                       95\n",
       "7                       52\n",
       "8                       23\n",
       "10                      19\n",
       "9                       12\n",
       "11                       9\n",
       "12                       8\n",
       "13                       3\n",
       "15                       3\n",
       "14                       2\n",
       "17                       1\n",
       "24                       1\n",
       "16                       1"
      ]
     },
     "execution_count": 83,
     "metadata": {},
     "output_type": "execute_result"
    }
   ],
   "source": [
    "radiology_dist = pd.DataFrame(lst3.apply(lambda x: len(x)).value_counts())\n",
    "radiology_dist\n",
    "radiology_dist.rename(columns={'RADIOLOGY':'Frequent'})\n",
    "radiology_dist.index.name = 'No of Radiology'\n",
    "radiology_dist"
   ]
  },
  {
   "cell_type": "code",
   "execution_count": 84,
   "metadata": {},
   "outputs": [
    {
     "name": "stderr",
     "output_type": "stream",
     "text": [
      "/opt/anaconda3/lib/python3.8/site-packages/seaborn/_decorators.py:36: FutureWarning: Pass the following variables as keyword args: x, y. From version 0.12, the only valid positional argument will be `data`, and passing other arguments without an explicit keyword will result in an error or misinterpretation.\n",
      "  warnings.warn(\n",
      "<ipython-input-84-c79b0074c6b2>:15: UserWarning: FixedFormatter should only be used together with FixedLocator\n",
      "  splot.set_yticklabels([str(round(s))+'%' for s in splot.get_yticks() ], fontsize = 12)\n"
     ]
    },
    {
     "data": {
      "image/png": "[encoded data removed]",
      "text/plain": [
       "<Figure size 864x576 with 1 Axes>"
      ]
     },
     "metadata": {
      "needs_background": "light"
     },
     "output_type": "display_data"
    }
   ],
   "source": [
    "plt.figure(figsize=(12,8))\n",
    "\n",
    "x = [str(n) for n in lst3.apply(lambda x: len(x)).value_counts().keys() ]\n",
    "y = lst3.apply(lambda x: len(x)).value_counts(normalize=True).values.round(2)\n",
    "y = [round(n * 100, 3) for n in y]\n",
    "splot = sns.barplot(x,y)\n",
    "\n",
    "for p in splot.patches:\n",
    "    splot.annotate(format(p.get_height()), \n",
    "                   (p.get_x() + p.get_width() / 2, p.get_height()), \n",
    "                    ha = 'center', va = 'center', \n",
    "                    xytext = (0, 9), \n",
    "                    textcoords = 'offset points')\n",
    "    \n",
    "splot.set_yticklabels([str(round(s))+'%' for s in splot.get_yticks() ], fontsize = 12)\n",
    "plt.title('Percentage of Radiology Number', fontsize=16);"
   ]
  },
  {
   "cell_type": "code",
   "execution_count": 85,
   "metadata": {},
   "outputs": [
    {
     "data": {
      "text/plain": [
       "23293"
      ]
     },
     "execution_count": 85,
     "metadata": {},
     "output_type": "execute_result"
    }
   ],
   "source": [
    "k = df[~df['RADIOLOGY'].isna()]['RADIOLOGY'].apply(lambda x: x.count('START:')).value_counts().keys()\n",
    "v = df[~df['RADIOLOGY'].isna()]['RADIOLOGY'].apply(lambda x: x.count('START:')).value_counts().values\n",
    "sum(k*v)"
   ]
  },
  {
   "cell_type": "code",
   "execution_count": 86,
   "metadata": {},
   "outputs": [
    {
     "data": {
      "text/plain": [
       "23293"
      ]
     },
     "execution_count": 86,
     "metadata": {},
     "output_type": "execute_result"
    }
   ],
   "source": [
    "k = lst3.apply(lambda x: len(x)).value_counts().keys()\n",
    "v = lst3.apply(lambda x: len(x)).value_counts().values\n",
    "sum(k*v)"
   ]
  },
  {
   "cell_type": "code",
   "execution_count": 87,
   "metadata": {},
   "outputs": [],
   "source": [
    "df['RADIOLOGY_DURATION'] = None"
   ]
  },
  {
   "cell_type": "code",
   "execution_count": 88,
   "metadata": {},
   "outputs": [
    {
     "name": "stderr",
     "output_type": "stream",
     "text": [
      "<ipython-input-88-2754aa6daace>:2: SettingWithCopyWarning: \n",
      "A value is trying to be set on a copy of a slice from a DataFrame\n",
      "\n",
      "See the caveats in the documentation: https://pandas.pydata.org/pandas-docs/stable/user_guide/indexing.html#returning-a-view-versus-a-copy\n",
      "  df['RADIOLOGY_DURATION'][i] = lst3[i]\n"
     ]
    }
   ],
   "source": [
    "for i in lst3.index:\n",
    "    df['RADIOLOGY_DURATION'][i] = lst3[i]"
   ]
  },
  {
   "cell_type": "code",
   "execution_count": 89,
   "metadata": {},
   "outputs": [],
   "source": [
    "total_radilogy_lst = [item for lst in lst3 for item in lst]"
   ]
  },
  {
   "cell_type": "code",
   "execution_count": 90,
   "metadata": {},
   "outputs": [
    {
     "name": "stdout",
     "output_type": "stream",
     "text": [
      "Total Number of Radiology: 23293\n"
     ]
    }
   ],
   "source": [
    "print(f'Total Number of Radiology: {len(total_radilogy_lst)}')"
   ]
  },
  {
   "cell_type": "code",
   "execution_count": 91,
   "metadata": {},
   "outputs": [
    {
     "data": {
      "text/html": [
       "<div>\n",
       "<style scoped>\n",
       "    .dataframe tbody tr th:only-of-type {\n",
       "        vertical-align: middle;\n",
       "    }\n",
       "\n",
       "    .dataframe tbody tr th {\n",
       "        vertical-align: top;\n",
       "    }\n",
       "\n",
       "    .dataframe thead th {\n",
       "        text-align: right;\n",
       "    }\n",
       "</style>\n",
       "<table border=\"1\" class=\"dataframe\">\n",
       "  <thead>\n",
       "    <tr style=\"text-align: right;\">\n",
       "      <th></th>\n",
       "      <th>All Radiolgy</th>\n",
       "    </tr>\n",
       "  </thead>\n",
       "  <tbody>\n",
       "    <tr>\n",
       "      <th>count</th>\n",
       "      <td>23293</td>\n",
       "    </tr>\n",
       "    <tr>\n",
       "      <th>mean</th>\n",
       "      <td>0 days 04:22:59.296784441</td>\n",
       "    </tr>\n",
       "    <tr>\n",
       "      <th>std</th>\n",
       "      <td>1 days 07:08:22.670811450</td>\n",
       "    </tr>\n",
       "    <tr>\n",
       "      <th>min</th>\n",
       "      <td>0 days 00:01:00</td>\n",
       "    </tr>\n",
       "    <tr>\n",
       "      <th>25%</th>\n",
       "      <td>0 days 00:26:00</td>\n",
       "    </tr>\n",
       "    <tr>\n",
       "      <th>50%</th>\n",
       "      <td>0 days 00:51:00</td>\n",
       "    </tr>\n",
       "    <tr>\n",
       "      <th>75%</th>\n",
       "      <td>0 days 01:43:00</td>\n",
       "    </tr>\n",
       "    <tr>\n",
       "      <th>max</th>\n",
       "      <td>88 days 11:25:00</td>\n",
       "    </tr>\n",
       "  </tbody>\n",
       "</table>\n",
       "</div>"
      ],
      "text/plain": [
       "                    All Radiolgy\n",
       "count                      23293\n",
       "mean   0 days 04:22:59.296784441\n",
       "std    1 days 07:08:22.670811450\n",
       "min              0 days 00:01:00\n",
       "25%              0 days 00:26:00\n",
       "50%              0 days 00:51:00\n",
       "75%              0 days 01:43:00\n",
       "max             88 days 11:25:00"
      ]
     },
     "execution_count": 91,
     "metadata": {},
     "output_type": "execute_result"
    }
   ],
   "source": [
    "pd.DataFrame(pd.Series(total_radilogy_lst).describe(), columns=['All Radiolgy'])"
   ]
  },
  {
   "cell_type": "code",
   "execution_count": 92,
   "metadata": {},
   "outputs": [],
   "source": [
    "lab_test_without_end = []\n",
    "lab_test_with_end = []\n",
    "lab_test_without_end_ind = []\n",
    "lab_test_with_end_ind = []\n",
    "\n",
    "for i in radiology_lst.index:\n",
    "    if len(radiology_lst[i])>1:\n",
    "        for n in radiology_lst[i]:\n",
    "            if len(n) <=50:\n",
    "                lab_test_without_end.append(i)\n",
    "                lab_test_without_end_ind.append(i)\n",
    "            else:\n",
    "                lab_test_with_end.append(i)\n",
    "                lab_test_with_end_ind.append(i)\n",
    "    else:\n",
    "        if len(n) <=50:\n",
    "            lab_test_without_end.append(i)\n",
    "            lab_test_without_end_ind.append(i)\n",
    "        else:\n",
    "            lab_test_with_end.append(i)\n",
    "            lab_test_with_end_ind.append(i)"
   ]
  },
  {
   "cell_type": "code",
   "execution_count": 93,
   "metadata": {},
   "outputs": [
    {
     "data": {
      "text/plain": [
       "23293"
      ]
     },
     "execution_count": 93,
     "metadata": {},
     "output_type": "execute_result"
    }
   ],
   "source": [
    "len(lab_test_with_end)"
   ]
  },
  {
   "cell_type": "code",
   "execution_count": 94,
   "metadata": {},
   "outputs": [
    {
     "data": {
      "text/plain": [
       "0"
      ]
     },
     "execution_count": 94,
     "metadata": {},
     "output_type": "execute_result"
    }
   ],
   "source": [
    "len(lab_test_without_end)"
   ]
  },
  {
   "cell_type": "code",
   "execution_count": 95,
   "metadata": {},
   "outputs": [],
   "source": [
    "length_n = []\n",
    "for i in radiology_lst.index:\n",
    "    if len(radiology_lst[i]) > 1:\n",
    "        for n in radiology_lst[i]:\n",
    "            length_n.append(len(n))\n",
    "    else:\n",
    "        length_n.append(len(n))"
   ]
  },
  {
   "cell_type": "code",
   "execution_count": 96,
   "metadata": {},
   "outputs": [
    {
     "data": {
      "text/plain": [
       "count    23293.0\n",
       "mean        57.0\n",
       "std          0.0\n",
       "min         57.0\n",
       "25%         57.0\n",
       "50%         57.0\n",
       "75%         57.0\n",
       "max         57.0\n",
       "dtype: float64"
      ]
     },
     "execution_count": 96,
     "metadata": {},
     "output_type": "execute_result"
    }
   ],
   "source": [
    "pd.Series(length_n).describe()"
   ]
  },
  {
   "cell_type": "markdown",
   "metadata": {},
   "source": [
    "# Analyzing PHARMASY Feature"
   ]
  },
  {
   "cell_type": "code",
   "execution_count": 97,
   "metadata": {},
   "outputs": [
    {
     "data": {
      "text/plain": [
       "16449"
      ]
     },
     "execution_count": 97,
     "metadata": {},
     "output_type": "execute_result"
    }
   ],
   "source": [
    "df['PHARMECY'].isna().sum()"
   ]
  },
  {
   "cell_type": "code",
   "execution_count": 98,
   "metadata": {},
   "outputs": [
    {
     "data": {
      "text/plain": [
       "13507"
      ]
     },
     "execution_count": 98,
     "metadata": {},
     "output_type": "execute_result"
    }
   ],
   "source": [
    "df[~df['PHARMECY'].isna()]['PHARMECY'].shape[0]"
   ]
  },
  {
   "cell_type": "code",
   "execution_count": 99,
   "metadata": {},
   "outputs": [
    {
     "data": {
      "image/png": "[encoded data removed]",
      "text/plain": [
       "<Figure size 432x576 with 1 Axes>"
      ]
     },
     "metadata": {},
     "output_type": "display_data"
    }
   ],
   "source": [
    "plt.figure(figsize=(6,8))\n",
    "x = [\n",
    "df[df['PHARMECY'].isna()].shape[0]/df.shape[0] * 100 ,\n",
    "df[~df['PHARMECY'].isna()].shape[0] / df.shape[0] * 100\n",
    "]\n",
    "\n",
    "plt.pie(\n",
    "    x = x,\n",
    "    autopct='%1.2f%%')\n",
    "plt.title('Patients given medication ( Pecentage ) ')\n",
    "plt.legend(['Not Given medication', 'Given Radiology'], loc=(0.8,0.8));"
   ]
  },
  {
   "cell_type": "code",
   "execution_count": 100,
   "metadata": {},
   "outputs": [
    {
     "data": {
      "text/plain": [
       "'3945770 START: ,02-01-2021 00:36, END: ,02-01-2021 00:43,;3945770 START: ,02-01-2021 00:36, END: ,02-01-2021 00:43,'"
      ]
     },
     "execution_count": 100,
     "metadata": {},
     "output_type": "execute_result"
    }
   ],
   "source": [
    "df['PHARMECY'][1]"
   ]
  },
  {
   "cell_type": "code",
   "execution_count": 101,
   "metadata": {},
   "outputs": [],
   "source": [
    "mask = df['PHARMECY'].isna()\n",
    "pharmecy_lst = df[~mask]['PHARMECY'].apply(lambda x: x.split(';'))"
   ]
  },
  {
   "cell_type": "code",
   "execution_count": 102,
   "metadata": {},
   "outputs": [],
   "source": [
    "lst1 = pharmecy_lst.apply(lambda x: ' '.join(x).split('START: ,')[1:])"
   ]
  },
  {
   "cell_type": "code",
   "execution_count": 103,
   "metadata": {},
   "outputs": [],
   "source": [
    "lst2 = lst1.apply(lambda x: [pd.to_datetime(x[i][24:40], dayfirst=True) - pd.to_datetime(x[i][:16], dayfirst=True) for i in range(len(x))])"
   ]
  },
  {
   "cell_type": "code",
   "execution_count": 104,
   "metadata": {
    "scrolled": false
   },
   "outputs": [],
   "source": [
    "lst3 = lst2.apply(lambda x: pd.to_timedelta(x))"
   ]
  },
  {
   "cell_type": "code",
   "execution_count": 105,
   "metadata": {},
   "outputs": [
    {
     "data": {
      "text/plain": [
       "8724   63 days 10:35:00\n",
       "Name: PHARMECY, dtype: timedelta64[ns]"
      ]
     },
     "execution_count": 105,
     "metadata": {},
     "output_type": "execute_result"
    }
   ],
   "source": [
    "lst3.apply(lambda x: x.max())[ lst3.apply(lambda x: x.max()) == lst3.apply(lambda x: x.max()).max() ]"
   ]
  },
  {
   "cell_type": "code",
   "execution_count": 106,
   "metadata": {},
   "outputs": [
    {
     "data": {
      "text/plain": [
       "'3971810 START: ,26-01-2021 13:42, END: ,31-03-2021 00:17,'"
      ]
     },
     "execution_count": 106,
     "metadata": {},
     "output_type": "execute_result"
    }
   ],
   "source": [
    "df['PHARMECY'][8724]"
   ]
  },
  {
   "cell_type": "code",
   "execution_count": 107,
   "metadata": {},
   "outputs": [
    {
     "data": {
      "text/plain": [
       "30450"
      ]
     },
     "execution_count": 107,
     "metadata": {},
     "output_type": "execute_result"
    }
   ],
   "source": [
    "k = df[~df['PHARMECY'].isna()]['PHARMECY'].apply(lambda x: x.count('START:')).value_counts().keys()\n",
    "v = df[~df['PHARMECY'].isna()]['PHARMECY'].apply(lambda x: x.count('START:')).value_counts().values\n",
    "sum(k*v)"
   ]
  },
  {
   "cell_type": "code",
   "execution_count": 108,
   "metadata": {},
   "outputs": [
    {
     "data": {
      "text/plain": [
       "30450"
      ]
     },
     "execution_count": 108,
     "metadata": {},
     "output_type": "execute_result"
    }
   ],
   "source": [
    "k = lst3.apply(lambda x: len(x)).value_counts().keys()\n",
    "v = lst3.apply(lambda x: len(x)).value_counts().values\n",
    "sum(k*v)"
   ]
  },
  {
   "cell_type": "code",
   "execution_count": 109,
   "metadata": {},
   "outputs": [
    {
     "data": {
      "text/html": [
       "<div>\n",
       "<style scoped>\n",
       "    .dataframe tbody tr th:only-of-type {\n",
       "        vertical-align: middle;\n",
       "    }\n",
       "\n",
       "    .dataframe tbody tr th {\n",
       "        vertical-align: top;\n",
       "    }\n",
       "\n",
       "    .dataframe thead th {\n",
       "        text-align: right;\n",
       "    }\n",
       "</style>\n",
       "<table border=\"1\" class=\"dataframe\">\n",
       "  <thead>\n",
       "    <tr style=\"text-align: right;\">\n",
       "      <th></th>\n",
       "      <th>PHARMECY</th>\n",
       "    </tr>\n",
       "    <tr>\n",
       "      <th>No of Pharmasy</th>\n",
       "      <th></th>\n",
       "    </tr>\n",
       "  </thead>\n",
       "  <tbody>\n",
       "    <tr>\n",
       "      <th>2</th>\n",
       "      <td>5940</td>\n",
       "    </tr>\n",
       "    <tr>\n",
       "      <th>1</th>\n",
       "      <td>3246</td>\n",
       "    </tr>\n",
       "    <tr>\n",
       "      <th>3</th>\n",
       "      <td>2838</td>\n",
       "    </tr>\n",
       "    <tr>\n",
       "      <th>4</th>\n",
       "      <td>980</td>\n",
       "    </tr>\n",
       "    <tr>\n",
       "      <th>5</th>\n",
       "      <td>301</td>\n",
       "    </tr>\n",
       "    <tr>\n",
       "      <th>6</th>\n",
       "      <td>117</td>\n",
       "    </tr>\n",
       "    <tr>\n",
       "      <th>7</th>\n",
       "      <td>38</td>\n",
       "    </tr>\n",
       "    <tr>\n",
       "      <th>8</th>\n",
       "      <td>25</td>\n",
       "    </tr>\n",
       "    <tr>\n",
       "      <th>9</th>\n",
       "      <td>9</td>\n",
       "    </tr>\n",
       "    <tr>\n",
       "      <th>10</th>\n",
       "      <td>8</td>\n",
       "    </tr>\n",
       "    <tr>\n",
       "      <th>11</th>\n",
       "      <td>4</td>\n",
       "    </tr>\n",
       "    <tr>\n",
       "      <th>12</th>\n",
       "      <td>1</td>\n",
       "    </tr>\n",
       "  </tbody>\n",
       "</table>\n",
       "</div>"
      ],
      "text/plain": [
       "                PHARMECY\n",
       "No of Pharmasy          \n",
       "2                   5940\n",
       "1                   3246\n",
       "3                   2838\n",
       "4                    980\n",
       "5                    301\n",
       "6                    117\n",
       "7                     38\n",
       "8                     25\n",
       "9                      9\n",
       "10                     8\n",
       "11                     4\n",
       "12                     1"
      ]
     },
     "execution_count": 109,
     "metadata": {},
     "output_type": "execute_result"
    }
   ],
   "source": [
    "pharmasy_dist = pd.DataFrame(lst3.apply(lambda x: len(x)).value_counts())\n",
    "pharmasy_dist.rename(columns={'PHARAMSY': 'Frequent'})\n",
    "pharmasy_dist.index.name = 'No of Pharmasy'\n",
    "pharmasy_dist"
   ]
  },
  {
   "cell_type": "code",
   "execution_count": 110,
   "metadata": {
    "scrolled": false
   },
   "outputs": [
    {
     "name": "stderr",
     "output_type": "stream",
     "text": [
      "/opt/anaconda3/lib/python3.8/site-packages/seaborn/_decorators.py:36: FutureWarning: Pass the following variables as keyword args: x, y. From version 0.12, the only valid positional argument will be `data`, and passing other arguments without an explicit keyword will result in an error or misinterpretation.\n",
      "  warnings.warn(\n",
      "<ipython-input-110-afbbd4ca2b99>:15: UserWarning: FixedFormatter should only be used together with FixedLocator\n",
      "  splot.set_yticklabels([str(round(s))+'%' for s in splot.get_yticks() ], fontsize = 12)\n"
     ]
    },
    {
     "data": {
      "image/png": "[encoded data removed]",
      "text/plain": [
       "<Figure size 864x576 with 1 Axes>"
      ]
     },
     "metadata": {
      "needs_background": "light"
     },
     "output_type": "display_data"
    }
   ],
   "source": [
    "plt.figure(figsize=(12,8))\n",
    "\n",
    "x = [str(n) for n in lst3.apply(lambda x: len(x)).value_counts().keys() ]\n",
    "y = lst3.apply(lambda x: len(x)).value_counts(normalize=True).values.round(2)\n",
    "y = [round(n * 100, 3) for n in y]\n",
    "splot = sns.barplot(x,y)\n",
    "\n",
    "for p in splot.patches:\n",
    "    splot.annotate(format(p.get_height()), \n",
    "                   (p.get_x() + p.get_width() / 2, p.get_height()), \n",
    "                    ha = 'center', va = 'center', \n",
    "                    xytext = (0, 9), \n",
    "                    textcoords = 'offset points')\n",
    "    \n",
    "splot.set_yticklabels([str(round(s))+'%' for s in splot.get_yticks() ], fontsize = 12)\n",
    "plt.title('Percentage of Pharmasy Number', fontsize=16);"
   ]
  },
  {
   "cell_type": "code",
   "execution_count": 111,
   "metadata": {},
   "outputs": [],
   "source": [
    "df['PHARMECY_DURATION'] = None"
   ]
  },
  {
   "cell_type": "code",
   "execution_count": 112,
   "metadata": {},
   "outputs": [
    {
     "name": "stderr",
     "output_type": "stream",
     "text": [
      "<ipython-input-112-a32bb97695d7>:2: SettingWithCopyWarning: \n",
      "A value is trying to be set on a copy of a slice from a DataFrame\n",
      "\n",
      "See the caveats in the documentation: https://pandas.pydata.org/pandas-docs/stable/user_guide/indexing.html#returning-a-view-versus-a-copy\n",
      "  df['PHARMECY_DURATION'][i] = lst3[i]\n"
     ]
    }
   ],
   "source": [
    "for i in lst3.index:\n",
    "    df['PHARMECY_DURATION'][i] = lst3[i]"
   ]
  },
  {
   "cell_type": "code",
   "execution_count": 113,
   "metadata": {},
   "outputs": [],
   "source": [
    "total_pharmecy_lst = [item for lst in lst3 for item in lst]"
   ]
  },
  {
   "cell_type": "code",
   "execution_count": 114,
   "metadata": {},
   "outputs": [
    {
     "name": "stdout",
     "output_type": "stream",
     "text": [
      "Total Pharmacy Number: 30450\n"
     ]
    }
   ],
   "source": [
    "print(f'Total Pharmacy Number: {len(total_pharmecy_lst)}')"
   ]
  },
  {
   "cell_type": "code",
   "execution_count": 115,
   "metadata": {},
   "outputs": [
    {
     "data": {
      "text/html": [
       "<div>\n",
       "<style scoped>\n",
       "    .dataframe tbody tr th:only-of-type {\n",
       "        vertical-align: middle;\n",
       "    }\n",
       "\n",
       "    .dataframe tbody tr th {\n",
       "        vertical-align: top;\n",
       "    }\n",
       "\n",
       "    .dataframe thead th {\n",
       "        text-align: right;\n",
       "    }\n",
       "</style>\n",
       "<table border=\"1\" class=\"dataframe\">\n",
       "  <thead>\n",
       "    <tr style=\"text-align: right;\">\n",
       "      <th></th>\n",
       "      <th>Statistics</th>\n",
       "    </tr>\n",
       "  </thead>\n",
       "  <tbody>\n",
       "    <tr>\n",
       "      <th>count</th>\n",
       "      <td>30450</td>\n",
       "    </tr>\n",
       "    <tr>\n",
       "      <th>mean</th>\n",
       "      <td>0 days 01:32:03.570443349</td>\n",
       "    </tr>\n",
       "    <tr>\n",
       "      <th>std</th>\n",
       "      <td>1 days 01:01:41.266690727</td>\n",
       "    </tr>\n",
       "    <tr>\n",
       "      <th>min</th>\n",
       "      <td>0 days 00:00:00</td>\n",
       "    </tr>\n",
       "    <tr>\n",
       "      <th>25%</th>\n",
       "      <td>0 days 00:06:00</td>\n",
       "    </tr>\n",
       "    <tr>\n",
       "      <th>50%</th>\n",
       "      <td>0 days 00:13:00</td>\n",
       "    </tr>\n",
       "    <tr>\n",
       "      <th>75%</th>\n",
       "      <td>0 days 00:31:00</td>\n",
       "    </tr>\n",
       "    <tr>\n",
       "      <th>max</th>\n",
       "      <td>63 days 10:35:00</td>\n",
       "    </tr>\n",
       "  </tbody>\n",
       "</table>\n",
       "</div>"
      ],
      "text/plain": [
       "                      Statistics\n",
       "count                      30450\n",
       "mean   0 days 01:32:03.570443349\n",
       "std    1 days 01:01:41.266690727\n",
       "min              0 days 00:00:00\n",
       "25%              0 days 00:06:00\n",
       "50%              0 days 00:13:00\n",
       "75%              0 days 00:31:00\n",
       "max             63 days 10:35:00"
      ]
     },
     "execution_count": 115,
     "metadata": {},
     "output_type": "execute_result"
    }
   ],
   "source": [
    "pd.DataFrame(pd.Series(total_pharmecy_lst).describe(), columns=['Statistics'])"
   ]
  },
  {
   "cell_type": "code",
   "execution_count": 116,
   "metadata": {},
   "outputs": [
    {
     "data": {
      "text/plain": [
       "0"
      ]
     },
     "execution_count": 116,
     "metadata": {},
     "output_type": "execute_result"
    }
   ],
   "source": [
    "pd.Series(total_pharmecy_lst).isna().sum()"
   ]
  },
  {
   "cell_type": "code",
   "execution_count": 117,
   "metadata": {},
   "outputs": [],
   "source": [
    "lab_test_without_end = []\n",
    "lab_test_with_end = []\n",
    "lab_test_without_end_ind = []\n",
    "lab_test_with_end_ind = []\n",
    "\n",
    "for i in pharmecy_lst.index:\n",
    "    if len(pharmecy_lst[i])>1:\n",
    "        for n in pharmecy_lst[i]:\n",
    "            if len(n) <=50:\n",
    "                lab_test_without_end.append(i)\n",
    "                lab_test_without_end_ind.append(i)\n",
    "            else:\n",
    "                lab_test_with_end.append(i)\n",
    "                lab_test_with_end_ind.append(i)\n",
    "    else:\n",
    "        if len(n) <=50:\n",
    "            lab_test_without_end.append(i)\n",
    "            lab_test_without_end_ind.append(i)\n",
    "        else:\n",
    "            lab_test_with_end.append(i)\n",
    "            lab_test_with_end_ind.append(i)"
   ]
  },
  {
   "cell_type": "code",
   "execution_count": 118,
   "metadata": {},
   "outputs": [
    {
     "data": {
      "text/plain": [
       "30450"
      ]
     },
     "execution_count": 118,
     "metadata": {},
     "output_type": "execute_result"
    }
   ],
   "source": [
    "len(lab_test_with_end)"
   ]
  },
  {
   "cell_type": "code",
   "execution_count": 119,
   "metadata": {},
   "outputs": [
    {
     "data": {
      "text/plain": [
       "0"
      ]
     },
     "execution_count": 119,
     "metadata": {},
     "output_type": "execute_result"
    }
   ],
   "source": [
    "len(lab_test_without_end)"
   ]
  },
  {
   "cell_type": "code",
   "execution_count": 120,
   "metadata": {},
   "outputs": [],
   "source": [
    "length_n = []\n",
    "for i in pharmecy_lst.index:\n",
    "    if len(pharmecy_lst[i]) >1:\n",
    "        for n in pharmecy_lst[i]:\n",
    "            length_n.append(len(n))\n",
    "    else:\n",
    "        length_n.append(len(n))"
   ]
  },
  {
   "cell_type": "code",
   "execution_count": 121,
   "metadata": {},
   "outputs": [
    {
     "data": {
      "text/plain": [
       "count    30450.0\n",
       "mean        57.0\n",
       "std          0.0\n",
       "min         57.0\n",
       "25%         57.0\n",
       "50%         57.0\n",
       "75%         57.0\n",
       "max         57.0\n",
       "dtype: float64"
      ]
     },
     "execution_count": 121,
     "metadata": {},
     "output_type": "execute_result"
    }
   ],
   "source": [
    "pd.Series(length_n).describe()"
   ]
  },
  {
   "cell_type": "markdown",
   "metadata": {},
   "source": [
    "  "
   ]
  },
  {
   "cell_type": "markdown",
   "metadata": {},
   "source": [
    "  "
   ]
  }
 ],
 "metadata": {
  "kernelspec": {
   "display_name": "Python 3",
   "language": "python",
   "name": "python3"
  },
  "language_info": {
   "codemirror_mode": {
    "name": "ipython",
    "version": 3
   },
   "file_extension": ".py",
   "mimetype": "text/x-python",
   "name": "python",
   "nbconvert_exporter": "python",
   "pygments_lexer": "ipython3",
   "version": "3.8.5"
  }
 },
 "nbformat": 4,
 "nbformat_minor": 4
}
